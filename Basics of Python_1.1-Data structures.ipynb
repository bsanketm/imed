{
 "cells": [
  {
   "cell_type": "markdown",
   "metadata": {},
   "source": [
    "# Data Structures\n",
    "There are four collection data types in the Python programming language\n",
    "- Lists\n",
    "- Tuples\n",
    "- Sets\n",
    "- Dictionaries"
   ]
  },
  {
   "cell_type": "markdown",
   "metadata": {},
   "source": [
    "## Python Lists\n",
    "A list is a collection which is ordered and changeable. \n",
    "In Python lists are written with square brackets."
   ]
  },
  {
   "cell_type": "code",
   "execution_count": 7,
   "metadata": {},
   "outputs": [
    {
     "name": "stdout",
     "output_type": "stream",
     "text": [
      "['Raj', 'Arjun', 'Priya', 'Kishor', 'Anu']\n",
      "<class 'list'>\n"
     ]
    }
   ],
   "source": [
    "         -5      -4         -3      -2   -1\n",
    "names = ['Raj', 'Arjun', 'Priya','Kishor','Anu']\n",
    "            0.    1.        2     3         4\n",
    "print(names)>>>>>>>>>>>>>>>>>> Posiyive Indexing: starts from 0\n",
    "print(type(names))<<<<<<<<<<<<<<<< Negative Indexing: Starts from -1"
   ]
  },
  {
   "cell_type": "code",
   "execution_count": 8,
   "metadata": {},
   "outputs": [
    {
     "name": "stdout",
     "output_type": "stream",
     "text": [
      "['Raj', 'Arjun', 'Priya']\n",
      "['Priya', 'Kishor', 'Anu']\n"
     ]
    }
   ],
   "source": [
    "names\n",
    "print(names[:3] )# for first 3 index values\n",
    "print(names[2:]) # for from second index values onward"
   ]
  },
  {
   "cell_type": "code",
   "execution_count": 9,
   "metadata": {},
   "outputs": [
    {
     "name": "stdout",
     "output_type": "stream",
     "text": [
      "Raj\n",
      "['Priya', 'Kishor', 'Anu']\n",
      "['Raj', 'Arjun']\n",
      "['Arjun', 'Priya']\n"
     ]
    }
   ],
   "source": [
    "# Access items\n",
    "print(names[0])\n",
    "print(names[2:])\n",
    "print(names[:2])\n",
    "print(names[1:3])"
   ]
  },
  {
   "cell_type": "code",
   "execution_count": 10,
   "metadata": {},
   "outputs": [
    {
     "data": {
      "text/plain": [
       "['Raj', 'Arjun', 'Priya', 'Kishor', 'Anu']"
      ]
     },
     "execution_count": 10,
     "metadata": {},
     "output_type": "execute_result"
    }
   ],
   "source": [
    "names"
   ]
  },
  {
   "cell_type": "code",
   "execution_count": 11,
   "metadata": {},
   "outputs": [
    {
     "name": "stdout",
     "output_type": "stream",
     "text": [
      "Anu\n",
      "['Kishor', 'Anu']\n",
      "['Raj', 'Arjun', 'Priya']\n",
      "['Priya', 'Kishor']\n"
     ]
    }
   ],
   "source": [
    "# Negative index\n",
    "print(names[-1])\n",
    "print(names[-2:])\n",
    "print(names[:-2])\n",
    "print(names[-3:-1])"
   ]
  },
  {
   "cell_type": "code",
   "execution_count": 12,
   "metadata": {},
   "outputs": [
    {
     "name": "stdout",
     "output_type": "stream",
     "text": [
      "['Raj', 'Arjun', 'Priya', 'Vijay', 'Anu']\n"
     ]
    }
   ],
   "source": [
    "# Change item in list\n",
    "names[3]=\"Vijay\"\n",
    "print(names)"
   ]
  },
  {
   "cell_type": "code",
   "execution_count": 13,
   "metadata": {},
   "outputs": [
    {
     "name": "stdout",
     "output_type": "stream",
     "text": [
      "Raj5Raj\n",
      "Arjun5Arjun\n",
      "Priya5Priya\n",
      "Vijay5Vijay\n",
      "Anu5Anu\n"
     ]
    }
   ],
   "source": [
    "# Looping through lists\n",
    "for j in names:\n",
    "    print(j+'5'+j)"
   ]
  },
  {
   "cell_type": "code",
   "execution_count": 14,
   "metadata": {},
   "outputs": [
    {
     "name": "stdout",
     "output_type": "stream",
     "text": [
      "[1, 2, 3, ['a', 'b', [5, 6]]]\n"
     ]
    }
   ],
   "source": [
    "# Nested list\n",
    "mylist=[1,2,3,['a','b',[5,6]]]\n",
    "print(mylist)"
   ]
  },
  {
   "cell_type": "code",
   "execution_count": 9,
   "metadata": {},
   "outputs": [
    {
     "ename": "NameError",
     "evalue": "name 'a' is not defined",
     "output_type": "error",
     "traceback": [
      "\u001b[0;31m---------------------------------------------------------------------------\u001b[0m",
      "\u001b[0;31mNameError\u001b[0m                                 Traceback (most recent call last)",
      "Input \u001b[0;32mIn [9]\u001b[0m, in \u001b[0;36m<cell line: 1>\u001b[0;34m()\u001b[0m\n\u001b[0;32m----> 1\u001b[0m \u001b[43ma\u001b[49m\u001b[38;5;241m.\u001b[39mappend(\u001b[38;5;124m\"\u001b[39m\u001b[38;5;124mc\u001b[39m\u001b[38;5;124m\"\u001b[39m)\n\u001b[1;32m      2\u001b[0m \u001b[38;5;28mprint\u001b[39m(a)\n\u001b[1;32m      3\u001b[0m b \u001b[38;5;241m=\u001b[39m a\u001b[38;5;241m.\u001b[39mcopy()\n",
      "\u001b[0;31mNameError\u001b[0m: name 'a' is not defined"
     ]
    }
   ],
   "source": [
    "a.append(\"c\")\n",
    "print(a)\n",
    "b = a.copy()\n",
    "print(b)\n",
    "del(a)"
   ]
  },
  {
   "cell_type": "markdown",
   "metadata": {},
   "source": [
    "## Methods \n",
    "- append(): Adds an element at the end of the list\n",
    "- clear(): Removes all the elements from the list\n",
    "- copy(): Returns a copy of the list\n",
    "- count(): Returns the number of elements with the specified value\n",
    "- del : Delete list\n",
    "- extend(): Add the elements of a list (or any iterable), to the end of the current list\n",
    "- index(): Returns the index of the first element with the specified value\n",
    "- insert():\tAdds an element at the specified position\n",
    "- len(): Length of list\n",
    "- list(): Copies list from given list\n",
    "- pop(): Removes the element at the specified position\n",
    "- remove():\tRemoves the item with the specified value\n",
    "- reverse(): Reverses the order of the list\n",
    "- sort(): Sorts the list"
   ]
  },
  {
   "cell_type": "code",
   "execution_count": 15,
   "metadata": {},
   "outputs": [
    {
     "name": "stdout",
     "output_type": "stream",
     "text": [
      "['Raj', 'Arjun', 'Priya', 'Vijay', 'Anu', 'Kumar']\n"
     ]
    }
   ],
   "source": [
    "# append(): Adds an element at the end of the list\n",
    "names.append(\"Kumar\")\n",
    "print(names)"
   ]
  },
  {
   "cell_type": "code",
   "execution_count": 16,
   "metadata": {},
   "outputs": [
    {
     "name": "stdout",
     "output_type": "stream",
     "text": [
      "[]\n"
     ]
    }
   ],
   "source": [
    "# clear(): Removes all the elements from the list\n",
    "names.clear()\n",
    "print(names)"
   ]
  },
  {
   "cell_type": "code",
   "execution_count": 17,
   "metadata": {},
   "outputs": [
    {
     "name": "stdout",
     "output_type": "stream",
     "text": [
      "['Raj', 'Arjun', 'Priya', 'Kishor', 'Anu']\n"
     ]
    }
   ],
   "source": [
    "# copy(): Returns a copy of the list\n",
    "names = ['Raj', 'Arjun', 'Priya','Kishor','Anu']\n",
    "Names=names.copy()\n",
    "print(Names)"
   ]
  },
  {
   "cell_type": "code",
   "execution_count": 18,
   "metadata": {},
   "outputs": [
    {
     "name": "stdout",
     "output_type": "stream",
     "text": [
      "2\n"
     ]
    }
   ],
   "source": [
    "# count(): Returns the number of elements with the specified value\n",
    "names.append(\"Raj\")\n",
    "x=names.count('Raj')\n",
    "print(x)"
   ]
  },
  {
   "cell_type": "code",
   "execution_count": 19,
   "metadata": {},
   "outputs": [],
   "source": [
    "# del : Delete list\n",
    "del Names\n",
    "\n",
    "#print(Names)"
   ]
  },
  {
   "cell_type": "code",
   "execution_count": 74,
   "metadata": {},
   "outputs": [
    {
     "name": "stdout",
     "output_type": "stream",
     "text": [
      "['Anu', 'Arjun', 'BMW', 'Ford', 'Kishor', 'Priya', 'Raj', 'Volvo', 'Ford', 'BMW', 'Volvo']\n"
     ]
    }
   ],
   "source": [
    "# extend(): Add the elements of a list (or any iterable), \n",
    "# to the end of the current list\n",
    "cars = ['Ford', 'BMW', 'Volvo']\n",
    "names.extend(cars)\n",
    "print(names)"
   ]
  },
  {
   "cell_type": "code",
   "execution_count": 21,
   "metadata": {},
   "outputs": [
    {
     "data": {
      "text/plain": [
       "7"
      ]
     },
     "execution_count": 21,
     "metadata": {},
     "output_type": "execute_result"
    }
   ],
   "source": [
    "# index(): Returns the index of the first element with the specified value\n",
    "x=names.index('BMW')\n",
    "x"
   ]
  },
  {
   "cell_type": "code",
   "execution_count": 75,
   "metadata": {},
   "outputs": [
    {
     "name": "stdout",
     "output_type": "stream",
     "text": [
      "['Anu', 'Arjun', 'Audi', 'BMW', 'Ford', 'Kishor', 'Priya', 'Raj', 'Volvo', 'Ford', 'BMW', 'Volvo']\n"
     ]
    }
   ],
   "source": [
    "# insert():\tAdds an element at the specified position\n",
    "names.insert(2,'Audi')\n",
    "print(names)"
   ]
  },
  {
   "cell_type": "code",
   "execution_count": 23,
   "metadata": {},
   "outputs": [
    {
     "name": "stdout",
     "output_type": "stream",
     "text": [
      "10\n"
     ]
    }
   ],
   "source": [
    "# len(): Length of list\n",
    "print(len(names))\n"
   ]
  },
  {
   "cell_type": "code",
   "execution_count": 24,
   "metadata": {},
   "outputs": [
    {
     "name": "stdout",
     "output_type": "stream",
     "text": [
      "['Audi', 'BMW', 'Ford']\n"
     ]
    }
   ],
   "source": [
    "# list(): Creats list from given inputs\n",
    "new_list=list(('Audi',\"BMW\",'Ford'))\n",
    "print(new_list)"
   ]
  },
  {
   "cell_type": "code",
   "execution_count": 25,
   "metadata": {},
   "outputs": [
    {
     "name": "stdout",
     "output_type": "stream",
     "text": [
      "['Raj', 'Arjun', 'Priya', 'Kishor', 'Anu', 'Raj', 'Ford', 'BMW', 'Volvo']\n",
      "9\n"
     ]
    }
   ],
   "source": [
    "# pop(): Removes the element at the specified position\n",
    "names.pop(2)\n",
    "#print(names.pop(2))\n",
    "print(names)\n",
    "#names.pop(2)\n",
    "#print(names)\n",
    "print(len(names))"
   ]
  },
  {
   "cell_type": "code",
   "execution_count": 26,
   "metadata": {},
   "outputs": [
    {
     "name": "stdout",
     "output_type": "stream",
     "text": [
      "['Arjun', 'Priya', 'Kishor', 'Anu', 'Raj', 'Ford', 'BMW', 'Volvo']\n"
     ]
    }
   ],
   "source": [
    "# remove(): Removes the item with the specified value\n",
    "names.remove('Raj')\n",
    "print(names)"
   ]
  },
  {
   "cell_type": "code",
   "execution_count": 27,
   "metadata": {},
   "outputs": [
    {
     "name": "stdout",
     "output_type": "stream",
     "text": [
      "['Volvo', 'BMW', 'Ford', 'Raj', 'Anu', 'Kishor', 'Priya', 'Arjun']\n"
     ]
    }
   ],
   "source": [
    "# reverse(): Reverses the order of the list\n",
    "names.reverse()\n",
    "print(names)"
   ]
  },
  {
   "cell_type": "code",
   "execution_count": 28,
   "metadata": {},
   "outputs": [
    {
     "name": "stdout",
     "output_type": "stream",
     "text": [
      "['Anu', 'Arjun', 'BMW', 'Ford', 'Kishor', 'Priya', 'Raj', 'Volvo']\n"
     ]
    }
   ],
   "source": [
    "# sort(): Sorts the list\n",
    "names.sort()\n",
    "print(names)"
   ]
  },
  {
   "cell_type": "markdown",
   "metadata": {},
   "source": [
    "## Tuples\n",
    "A tuple is a collection which is ordered and unchangeable. \n",
    "\n",
    "\n",
    "In Python tuples are written with round brackets."
   ]
  },
  {
   "cell_type": "markdown",
   "metadata": {},
   "source": [
    "The key difference between the tuples and lists is that while the tuples are immutable objects the lists are mutable. \n",
    "\n",
    "This means that tuples cannot be changed while the lists can be modified.\n",
    "Tuples are more memory efficient than the lists."
   ]
  },
  {
   "cell_type": "code",
   "execution_count": 10,
   "metadata": {},
   "outputs": [
    {
     "name": "stdout",
     "output_type": "stream",
     "text": [
      "(1, 5, 8, 3, 10, 3) \n",
      "\n",
      "('Raj', 'Arjun', 'Priya', 'Kishor', 'Anu')\n"
     ]
    }
   ],
   "source": [
    "t1=(1,5,8,3,10,3)\n",
    "t2=('Raj', 'Arjun', 'Priya','Kishor','Anu')\n",
    "print(t1,\"\\n\")\n",
    "print(t2)"
   ]
  },
  {
   "cell_type": "code",
   "execution_count": 13,
   "metadata": {},
   "outputs": [
    {
     "name": "stdout",
     "output_type": "stream",
     "text": [
      "['g', 'l', 'k']\n"
     ]
    }
   ],
   "source": [
    "g = ['g','l']\n",
    "g.append('k')\n",
    "print(g)"
   ]
  },
  {
   "cell_type": "code",
   "execution_count": 11,
   "metadata": {},
   "outputs": [
    {
     "ename": "AttributeError",
     "evalue": "'tuple' object has no attribute 'append'",
     "output_type": "error",
     "traceback": [
      "\u001b[0;31m---------------------------------------------------------------------------\u001b[0m",
      "\u001b[0;31mAttributeError\u001b[0m                            Traceback (most recent call last)",
      "Input \u001b[0;32mIn [11]\u001b[0m, in \u001b[0;36m<cell line: 1>\u001b[0;34m()\u001b[0m\n\u001b[0;32m----> 1\u001b[0m \u001b[43mt1\u001b[49m\u001b[38;5;241;43m.\u001b[39;49m\u001b[43mappend\u001b[49m(\u001b[38;5;241m9\u001b[39m)\n",
      "\u001b[0;31mAttributeError\u001b[0m: 'tuple' object has no attribute 'append'"
     ]
    }
   ],
   "source": [
    "t1.append(9)"
   ]
  },
  {
   "cell_type": "code",
   "execution_count": 31,
   "metadata": {},
   "outputs": [
    {
     "name": "stdout",
     "output_type": "stream",
     "text": [
      "1\n",
      "(8, 3, 10, 3)\n",
      "(1, 5, 8)\n"
     ]
    }
   ],
   "source": [
    "# Access elements\n",
    "print(t1[0])\n",
    "print(t1[2:])\n",
    "print(t1[:3])"
   ]
  },
  {
   "cell_type": "code",
   "execution_count": 32,
   "metadata": {},
   "outputs": [
    {
     "name": "stdout",
     "output_type": "stream",
     "text": [
      "3\n",
      "(8, 3, 10, 3)\n",
      "(1, 5, 8)\n"
     ]
    }
   ],
   "source": [
    "# Negative index\n",
    "print(t1[-1])\n",
    "print(t1[-4:])\n",
    "print(t1[:-3])"
   ]
  },
  {
   "cell_type": "code",
   "execution_count": 33,
   "metadata": {},
   "outputs": [
    {
     "ename": "TypeError",
     "evalue": "'tuple' object does not support item assignment",
     "output_type": "error",
     "traceback": [
      "\u001b[0;31m---------------------------------------------------------------------------\u001b[0m",
      "\u001b[0;31mTypeError\u001b[0m                                 Traceback (most recent call last)",
      "\u001b[0;32m/var/folders/2b/7j09kw1d0k9bgb6mny3b09h80000gp/T/ipykernel_20684/2536672427.py\u001b[0m in \u001b[0;36m<module>\u001b[0;34m\u001b[0m\n\u001b[1;32m      1\u001b[0m \u001b[0;31m# Change tuple values\u001b[0m\u001b[0;34m\u001b[0m\u001b[0;34m\u001b[0m\u001b[0;34m\u001b[0m\u001b[0m\n\u001b[0;32m----> 2\u001b[0;31m \u001b[0mt1\u001b[0m\u001b[0;34m[\u001b[0m\u001b[0;36m0\u001b[0m\u001b[0;34m]\u001b[0m\u001b[0;34m=\u001b[0m\u001b[0;36m99\u001b[0m\u001b[0;34m\u001b[0m\u001b[0;34m\u001b[0m\u001b[0m\n\u001b[0m",
      "\u001b[0;31mTypeError\u001b[0m: 'tuple' object does not support item assignment"
     ]
    }
   ],
   "source": [
    "# Change tuple values\n",
    "t1[0]=99\n"
   ]
  },
  {
   "cell_type": "markdown",
   "metadata": {},
   "source": [
    "Tuples are not interchangable. So no additional element can be added or removed. Try..."
   ]
  },
  {
   "cell_type": "code",
   "execution_count": 34,
   "metadata": {},
   "outputs": [
    {
     "name": "stdout",
     "output_type": "stream",
     "text": [
      "1\n",
      "5\n",
      "8\n",
      "3\n",
      "10\n",
      "3\n"
     ]
    }
   ],
   "source": [
    "# Looping through tuple\n",
    "for j in t1:\n",
    "    print(j)\n",
    "    "
   ]
  },
  {
   "cell_type": "code",
   "execution_count": 35,
   "metadata": {},
   "outputs": [
    {
     "name": "stdout",
     "output_type": "stream",
     "text": [
      "Raj is listed in t2\n",
      "False\n"
     ]
    }
   ],
   "source": [
    "# Check if 'Raj' in t2\n",
    "if \"Raj\" in t2:\n",
    "    print(\"Raj is listed in t2\")\n",
    "print('Raj' in t1)"
   ]
  },
  {
   "cell_type": "code",
   "execution_count": 36,
   "metadata": {},
   "outputs": [
    {
     "name": "stdout",
     "output_type": "stream",
     "text": [
      "<class 'tuple'>\n",
      "<class 'str'>\n"
     ]
    }
   ],
   "source": [
    "# tuple with one item\n",
    "T1=(\"Hi\",)\n",
    "print(type(T1))\n",
    "T2=(\"Hi\")\n",
    "print(type(T2))"
   ]
  },
  {
   "cell_type": "code",
   "execution_count": 2,
   "metadata": {},
   "outputs": [
    {
     "data": {
      "text/plain": [
       "(1, 2, 3, 4, 5, 6)"
      ]
     },
     "execution_count": 2,
     "metadata": {},
     "output_type": "execute_result"
    }
   ],
   "source": [
    "t= (1,2,3)\n",
    "q = (4,5,6)\n",
    "t+q"
   ]
  },
  {
   "cell_type": "code",
   "execution_count": 4,
   "metadata": {},
   "outputs": [
    {
     "data": {
      "text/plain": [
       "0"
      ]
     },
     "execution_count": 4,
     "metadata": {},
     "output_type": "execute_result"
    }
   ],
   "source": [
    "t.index(1)"
   ]
  },
  {
   "cell_type": "markdown",
   "metadata": {},
   "source": [
    "## Methods \n",
    "- tuple(): Creates tuple with elements specified.\n",
    "- len(): Gives length of tuple, no. of elements in tuple.\n",
    "- t1 + t2 : Adds two tuples\n",
    "- del(): Deletes tuple\n",
    "- count(): Returns the number of times a specified value occurs in a tuple.\n",
    "- index(): Searches the tuple for a specified value and returns the position of where it was found."
   ]
  },
  {
   "cell_type": "code",
   "execution_count": 37,
   "metadata": {},
   "outputs": [
    {
     "name": "stdout",
     "output_type": "stream",
     "text": [
      "(0, 2, 4, 6, 0, 2, 2, 5, 2, 0, 2, 3, 4)\n"
     ]
    }
   ],
   "source": [
    "# tuple(): Creates tuple with elements specified.\n",
    "t=tuple((0,2,4,6,0,2,2,5,2,0,2,3,4))\n",
    "t1 = tuple((1,2,3,4,5,6))\n",
    "print(t)"
   ]
  },
  {
   "cell_type": "code",
   "execution_count": 38,
   "metadata": {},
   "outputs": [],
   "source": [
    "del(t1)\n"
   ]
  },
  {
   "cell_type": "code",
   "execution_count": 40,
   "metadata": {},
   "outputs": [
    {
     "ename": "NameError",
     "evalue": "name 't1' is not defined",
     "output_type": "error",
     "traceback": [
      "\u001b[0;31m---------------------------------------------------------------------------\u001b[0m",
      "\u001b[0;31mNameError\u001b[0m                                 Traceback (most recent call last)",
      "\u001b[0;32m/var/folders/2b/7j09kw1d0k9bgb6mny3b09h80000gp/T/ipykernel_20684/3631454073.py\u001b[0m in \u001b[0;36m<module>\u001b[0;34m\u001b[0m\n\u001b[1;32m      1\u001b[0m \u001b[0;31m# len(): Gives length of tuple, no. of elements in tuple.\u001b[0m\u001b[0;34m\u001b[0m\u001b[0;34m\u001b[0m\u001b[0;34m\u001b[0m\u001b[0m\n\u001b[0;32m----> 2\u001b[0;31m \u001b[0mlen\u001b[0m\u001b[0;34m(\u001b[0m\u001b[0mt1\u001b[0m\u001b[0;34m)\u001b[0m\u001b[0;34m\u001b[0m\u001b[0;34m\u001b[0m\u001b[0m\n\u001b[0m",
      "\u001b[0;31mNameError\u001b[0m: name 't1' is not defined"
     ]
    }
   ],
   "source": [
    "# len(): Gives length of tuple, no. of elements in tuple.\n",
    "len(t1)\n"
   ]
  },
  {
   "cell_type": "code",
   "execution_count": 41,
   "metadata": {},
   "outputs": [
    {
     "ename": "NameError",
     "evalue": "name 't1' is not defined",
     "output_type": "error",
     "traceback": [
      "\u001b[0;31m---------------------------------------------------------------------------\u001b[0m",
      "\u001b[0;31mNameError\u001b[0m                                 Traceback (most recent call last)",
      "\u001b[0;32m/var/folders/2b/7j09kw1d0k9bgb6mny3b09h80000gp/T/ipykernel_20684/4175646306.py\u001b[0m in \u001b[0;36m<module>\u001b[0;34m\u001b[0m\n\u001b[1;32m      1\u001b[0m \u001b[0;31m# t1 + t2 : Adds two tuples\u001b[0m\u001b[0;34m\u001b[0m\u001b[0;34m\u001b[0m\u001b[0;34m\u001b[0m\u001b[0m\n\u001b[0;32m----> 2\u001b[0;31m \u001b[0mt\u001b[0m \u001b[0;34m+\u001b[0m \u001b[0mt1\u001b[0m\u001b[0;34m\u001b[0m\u001b[0;34m\u001b[0m\u001b[0m\n\u001b[0m",
      "\u001b[0;31mNameError\u001b[0m: name 't1' is not defined"
     ]
    }
   ],
   "source": [
    "# t1 + t2 : Adds two tuples\n",
    "t + t1"
   ]
  },
  {
   "cell_type": "code",
   "execution_count": 42,
   "metadata": {},
   "outputs": [
    {
     "name": "stdout",
     "output_type": "stream",
     "text": [
      "('Hi',)\n"
     ]
    },
    {
     "ename": "NameError",
     "evalue": "name 'T1' is not defined",
     "output_type": "error",
     "traceback": [
      "\u001b[0;31m---------------------------------------------------------------------------\u001b[0m",
      "\u001b[0;31mNameError\u001b[0m                                 Traceback (most recent call last)",
      "\u001b[0;32m/var/folders/2b/7j09kw1d0k9bgb6mny3b09h80000gp/T/ipykernel_20684/3702899712.py\u001b[0m in \u001b[0;36m<module>\u001b[0;34m\u001b[0m\n\u001b[1;32m      2\u001b[0m \u001b[0mprint\u001b[0m\u001b[0;34m(\u001b[0m\u001b[0mT1\u001b[0m\u001b[0;34m)\u001b[0m\u001b[0;34m\u001b[0m\u001b[0;34m\u001b[0m\u001b[0m\n\u001b[1;32m      3\u001b[0m \u001b[0;32mdel\u001b[0m \u001b[0mT1\u001b[0m\u001b[0;34m\u001b[0m\u001b[0;34m\u001b[0m\u001b[0m\n\u001b[0;32m----> 4\u001b[0;31m \u001b[0mprint\u001b[0m\u001b[0;34m(\u001b[0m\u001b[0mT1\u001b[0m\u001b[0;34m)\u001b[0m\u001b[0;34m\u001b[0m\u001b[0;34m\u001b[0m\u001b[0m\n\u001b[0m",
      "\u001b[0;31mNameError\u001b[0m: name 'T1' is not defined"
     ]
    }
   ],
   "source": [
    "# del(): Deletes tuple\n",
    "print(T1)\n",
    "del T1\n",
    "print(T1)"
   ]
  },
  {
   "cell_type": "code",
   "execution_count": 43,
   "metadata": {},
   "outputs": [
    {
     "data": {
      "text/plain": [
       "5"
      ]
     },
     "execution_count": 43,
     "metadata": {},
     "output_type": "execute_result"
    }
   ],
   "source": [
    "# count(): Returns the number of times a specified value occurs in a tuple.\n",
    "t.count(2)\n"
   ]
  },
  {
   "cell_type": "code",
   "execution_count": null,
   "metadata": {},
   "outputs": [],
   "source": [
    "index(2)\n"
   ]
  },
  {
   "cell_type": "code",
   "execution_count": null,
   "metadata": {},
   "outputs": [],
   "source": [
    "t = (1,2,5,'a','b', (1,'c'))\n",
    "print(t)"
   ]
  },
  {
   "cell_type": "markdown",
   "metadata": {},
   "source": [
    "## Sets\n",
    "A set is a collection which is unordered and unindexed. \n",
    "In Python sets are written with curly brackets."
   ]
  },
  {
   "cell_type": "code",
   "execution_count": null,
   "metadata": {},
   "outputs": [],
   "source": [
    "set1={1,3,8,9,4,3,5,2,1}\n",
    "print(set1,\"\\n\")\n",
    "set2={'A','C','D','A','X'}\n",
    "print(set2)\n"
   ]
  },
  {
   "cell_type": "code",
   "execution_count": null,
   "metadata": {},
   "outputs": [],
   "source": [
    "a = {1,2,3,4,5}\n",
    "print(a)\n",
    "b = {'1243','df','54',342,54.0,67j}\n",
    "b"
   ]
  },
  {
   "cell_type": "markdown",
   "metadata": {},
   "source": [
    "# Access items\n",
    "# You cannot access items in a set by referring to an index, \n",
    "# since sets are unordered the items has no index.\n"
   ]
  },
  {
   "cell_type": "code",
   "execution_count": null,
   "metadata": {},
   "outputs": [],
   "source": [
    "# Access items\n",
    "# loop through the set items using a for loop\n",
    "for j in set1:\n",
    "    print(j)\n",
    "print('A' in set2)"
   ]
  },
  {
   "cell_type": "code",
   "execution_count": 22,
   "metadata": {},
   "outputs": [
    {
     "data": {
      "text/plain": [
       "{1, 2}"
      ]
     },
     "execution_count": 22,
     "metadata": {},
     "output_type": "execute_result"
    }
   ],
   "source": [
    "w.difference(e)\n"
   ]
  },
  {
   "cell_type": "code",
   "execution_count": 23,
   "metadata": {},
   "outputs": [
    {
     "data": {
      "text/plain": [
       "{5}"
      ]
     },
     "execution_count": 23,
     "metadata": {},
     "output_type": "execute_result"
    }
   ],
   "source": [
    "e.difference(w)"
   ]
  },
  {
   "cell_type": "code",
   "execution_count": 29,
   "metadata": {},
   "outputs": [
    {
     "name": "stdout",
     "output_type": "stream",
     "text": [
      "{1, 2, 3, 4}\n",
      "{3, 4, 5}\n"
     ]
    }
   ],
   "source": [
    "w = {1,2,3,4}\n",
    "e = {3,4,5}\n",
    "print(w)\n",
    "print(e)"
   ]
  },
  {
   "cell_type": "code",
   "execution_count": 30,
   "metadata": {},
   "outputs": [],
   "source": [
    "w.difference_update(e)"
   ]
  },
  {
   "cell_type": "code",
   "execution_count": 42,
   "metadata": {},
   "outputs": [
    {
     "data": {
      "text/plain": [
       "{'A', 'B', 'C', 'D'}"
      ]
     },
     "execution_count": 42,
     "metadata": {},
     "output_type": "execute_result"
    }
   ],
   "source": [
    "maths.difference(sports)\n"
   ]
  },
  {
   "cell_type": "code",
   "execution_count": 38,
   "metadata": {},
   "outputs": [
    {
     "data": {
      "text/plain": [
       "{'A', 'B', 'C'}"
      ]
     },
     "execution_count": 38,
     "metadata": {},
     "output_type": "execute_result"
    }
   ],
   "source": [
    "maths.difference_update(sports)\n",
    "maths"
   ]
  },
  {
   "cell_type": "code",
   "execution_count": 41,
   "metadata": {},
   "outputs": [
    {
     "data": {
      "text/plain": [
       "{'E', 'F', 'G'}"
      ]
     },
     "execution_count": 41,
     "metadata": {},
     "output_type": "execute_result"
    }
   ],
   "source": [
    "sports.difference_update(maths)\n",
    "sports"
   ]
  },
  {
   "cell_type": "code",
   "execution_count": 31,
   "metadata": {},
   "outputs": [
    {
     "name": "stdout",
     "output_type": "stream",
     "text": [
      "{1, 2}\n",
      "{3, 4, 5}\n"
     ]
    }
   ],
   "source": [
    "print(w)\n",
    "print(e)"
   ]
  },
  {
   "cell_type": "code",
   "execution_count": 48,
   "metadata": {},
   "outputs": [
    {
     "name": "stdout",
     "output_type": "stream",
     "text": [
      "{'B', 'D', 'C'}\n",
      "{'D', 'C'}\n"
     ]
    }
   ],
   "source": [
    "print(maths)\n",
    "maths.discard(\"B\")\n",
    "print(maths)"
   ]
  },
  {
   "cell_type": "code",
   "execution_count": 46,
   "metadata": {},
   "outputs": [
    {
     "data": {
      "text/plain": [
       "{'B', 'C', 'D'}"
      ]
     },
     "execution_count": 46,
     "metadata": {},
     "output_type": "execute_result"
    }
   ],
   "source": [
    "maths"
   ]
  },
  {
   "cell_type": "code",
   "execution_count": null,
   "metadata": {},
   "outputs": [],
   "source": []
  },
  {
   "cell_type": "code",
   "execution_count": 26,
   "metadata": {},
   "outputs": [],
   "source": [
    "maths = {\"A\",\"B\",\"C\",\"D\"}\n",
    "sports = {\"D\",\"E\",\"F\",\"G\"}\n"
   ]
  },
  {
   "cell_type": "code",
   "execution_count": 2,
   "metadata": {},
   "outputs": [
    {
     "data": {
      "text/plain": [
       "{'D'}"
      ]
     },
     "execution_count": 2,
     "metadata": {},
     "output_type": "execute_result"
    }
   ],
   "source": [
    "maths.intersection(sports)"
   ]
  },
  {
   "cell_type": "code",
   "execution_count": 6,
   "metadata": {},
   "outputs": [
    {
     "name": "stdout",
     "output_type": "stream",
     "text": [
      "{'C', 'A', 'D', 'B'}\n",
      "{'E', 'F', 'D', 'G'}\n"
     ]
    }
   ],
   "source": [
    "print(maths)\n",
    "print(sports)"
   ]
  },
  {
   "cell_type": "code",
   "execution_count": 7,
   "metadata": {},
   "outputs": [],
   "source": [
    "maths.intersection_update(sports)"
   ]
  },
  {
   "cell_type": "code",
   "execution_count": 8,
   "metadata": {},
   "outputs": [
    {
     "name": "stdout",
     "output_type": "stream",
     "text": [
      "{'D'}\n",
      "{'E', 'F', 'D', 'G'}\n"
     ]
    }
   ],
   "source": [
    "print(maths)\n",
    "print(sports)"
   ]
  },
  {
   "cell_type": "code",
   "execution_count": 9,
   "metadata": {},
   "outputs": [
    {
     "data": {
      "text/plain": [
       "False"
      ]
     },
     "execution_count": 9,
     "metadata": {},
     "output_type": "execute_result"
    }
   ],
   "source": [
    "maths.isdisjoint(sports)"
   ]
  },
  {
   "cell_type": "code",
   "execution_count": 10,
   "metadata": {},
   "outputs": [
    {
     "data": {
      "text/plain": [
       "True"
      ]
     },
     "execution_count": 10,
     "metadata": {},
     "output_type": "execute_result"
    }
   ],
   "source": [
    "maths.issubset(sports)"
   ]
  },
  {
   "cell_type": "code",
   "execution_count": 11,
   "metadata": {},
   "outputs": [
    {
     "data": {
      "text/plain": [
       "False"
      ]
     },
     "execution_count": 11,
     "metadata": {},
     "output_type": "execute_result"
    }
   ],
   "source": [
    "maths.issuperset(sports)"
   ]
  },
  {
   "cell_type": "code",
   "execution_count": 12,
   "metadata": {},
   "outputs": [
    {
     "data": {
      "text/plain": [
       "1"
      ]
     },
     "execution_count": 12,
     "metadata": {},
     "output_type": "execute_result"
    }
   ],
   "source": [
    "len(maths)"
   ]
  },
  {
   "cell_type": "code",
   "execution_count": 20,
   "metadata": {},
   "outputs": [
    {
     "name": "stdout",
     "output_type": "stream",
     "text": [
      "{'E', 'F', 'D', 'G'}\n",
      "{'F', 'D', 'G'}\n"
     ]
    }
   ],
   "source": [
    "print(sports)\n",
    "sports.pop()\n",
    "print(sports)"
   ]
  },
  {
   "cell_type": "code",
   "execution_count": 24,
   "metadata": {},
   "outputs": [
    {
     "ename": "KeyError",
     "evalue": "'F'",
     "output_type": "error",
     "traceback": [
      "\u001b[0;31m---------------------------------------------------------------------------\u001b[0m",
      "\u001b[0;31mKeyError\u001b[0m                                  Traceback (most recent call last)",
      "\u001b[0;32m/var/folders/2b/7j09kw1d0k9bgb6mny3b09h80000gp/T/ipykernel_39746/3640035502.py\u001b[0m in \u001b[0;36m<module>\u001b[0;34m\u001b[0m\n\u001b[0;32m----> 1\u001b[0;31m \u001b[0msports\u001b[0m\u001b[0;34m.\u001b[0m\u001b[0mremove\u001b[0m\u001b[0;34m(\u001b[0m\u001b[0;34m\"F\"\u001b[0m\u001b[0;34m)\u001b[0m\u001b[0;34m\u001b[0m\u001b[0;34m\u001b[0m\u001b[0m\n\u001b[0m",
      "\u001b[0;31mKeyError\u001b[0m: 'F'"
     ]
    }
   ],
   "source": [
    "sports.remove(\"F\")"
   ]
  },
  {
   "cell_type": "code",
   "execution_count": 27,
   "metadata": {},
   "outputs": [
    {
     "data": {
      "text/plain": [
       "{'A', 'B', 'C', 'E', 'F', 'G'}"
      ]
     },
     "execution_count": 27,
     "metadata": {},
     "output_type": "execute_result"
    }
   ],
   "source": [
    "maths.symmetric_difference(sports)"
   ]
  },
  {
   "cell_type": "code",
   "execution_count": 29,
   "metadata": {},
   "outputs": [],
   "source": [
    "maths.symmetric_difference_update(sports)"
   ]
  },
  {
   "cell_type": "code",
   "execution_count": 36,
   "metadata": {},
   "outputs": [
    {
     "name": "stdout",
     "output_type": "stream",
     "text": [
      "{'C', 'A', 'D', 'B'}\n",
      "{'E', 'F', 'D', 'G'}\n"
     ]
    }
   ],
   "source": [
    "maths = {\"A\",\"B\",\"C\",\"D\"}\n",
    "sports = {\"D\",\"E\",\"F\",\"G\"}\n",
    "print(maths)\n",
    "print(sports)"
   ]
  },
  {
   "cell_type": "code",
   "execution_count": 37,
   "metadata": {},
   "outputs": [
    {
     "data": {
      "text/plain": [
       "{'A', 'B', 'C', 'E', 'F', 'G'}"
      ]
     },
     "execution_count": 37,
     "metadata": {},
     "output_type": "execute_result"
    }
   ],
   "source": [
    "maths.symmetric_difference(sports)\n"
   ]
  },
  {
   "cell_type": "code",
   "execution_count": 39,
   "metadata": {},
   "outputs": [
    {
     "name": "stdout",
     "output_type": "stream",
     "text": [
      "{'E', 'F', 'D', 'G'}\n"
     ]
    },
    {
     "data": {
      "text/plain": [
       "{'A', 'B', 'C', 'D'}"
      ]
     },
     "execution_count": 39,
     "metadata": {},
     "output_type": "execute_result"
    }
   ],
   "source": [
    "print(sports)\n",
    "maths"
   ]
  },
  {
   "cell_type": "code",
   "execution_count": 40,
   "metadata": {},
   "outputs": [],
   "source": [
    "maths.symmetric_difference_update(sports)"
   ]
  },
  {
   "cell_type": "code",
   "execution_count": 41,
   "metadata": {},
   "outputs": [
    {
     "data": {
      "text/plain": [
       "{'A', 'B', 'C', 'E', 'F', 'G'}"
      ]
     },
     "execution_count": 41,
     "metadata": {},
     "output_type": "execute_result"
    }
   ],
   "source": [
    "maths"
   ]
  },
  {
   "cell_type": "code",
   "execution_count": 31,
   "metadata": {},
   "outputs": [
    {
     "name": "stdout",
     "output_type": "stream",
     "text": [
      "{'A', 'B', 'E', 'C', 'F', 'G'}\n",
      "{'B', 'E', 'C', 'F', 'G'}\n"
     ]
    }
   ],
   "source": [
    "print(maths)\n",
    "maths.pop()\n",
    "print(maths)"
   ]
  },
  {
   "cell_type": "code",
   "execution_count": 32,
   "metadata": {},
   "outputs": [
    {
     "data": {
      "text/plain": [
       "{'B', 'C', 'D', 'E', 'F', 'G'}"
      ]
     },
     "execution_count": 32,
     "metadata": {},
     "output_type": "execute_result"
    }
   ],
   "source": [
    "sports.union(maths)"
   ]
  },
  {
   "cell_type": "code",
   "execution_count": 34,
   "metadata": {},
   "outputs": [],
   "source": [
    "sports.update(maths)"
   ]
  },
  {
   "cell_type": "code",
   "execution_count": 35,
   "metadata": {},
   "outputs": [
    {
     "data": {
      "text/plain": [
       "{'B', 'C', 'D', 'E', 'F', 'G'}"
      ]
     },
     "execution_count": 35,
     "metadata": {},
     "output_type": "execute_result"
    }
   ],
   "source": [
    "sports"
   ]
  },
  {
   "cell_type": "markdown",
   "metadata": {},
   "source": [
    "## Methods\n",
    "- add(): Adds an element to the set\n",
    "- clear(): Removes all the elements from the set\n",
    "- copy(): Returns a copy of the set\n",
    "- difference(): Returns a set containing the difference between two or more sets\n",
    "- difference_update(): Removes the items in this set that are also included in another, specified set\n",
    "- discard(): Remove the specified item\n",
    "- intersection(): Returns a set, that is the intersection of two other sets\n",
    "- intersection_update(): Removes the items in this set that are not present in other, specified set(s)\n",
    "- isdisjoint(): Returns whether two sets have a intersection or not\n",
    "- issubset(): Returns whether another set contains this set or not\n",
    "- issuperset(): Returns whether this set contains another set or not\n",
    "- len(): Finds length of set\n",
    "- pop(): Removes an element from the set\n",
    "- remove(): Removes the specified element\n",
    "- symmetric_difference(): Returns a set with the symmetric differences of two sets\n",
    "- symmetric_difference_update(): inserts the symmetric differences from this set and another\n",
    "- union(): Return a set containing the union of sets\n",
    "- update(): Update the set with the union of this set and others"
   ]
  },
  {
   "cell_type": "code",
   "execution_count": null,
   "metadata": {},
   "outputs": [],
   "source": [
    "# I. symmetric_difference_update()\n",
    "# II. symmetric_difference():\n",
    "# III. union()\n",
    "# IV. discard()\n",
    "# V. issubset()"
   ]
  },
  {
   "cell_type": "code",
   "execution_count": null,
   "metadata": {},
   "outputs": [],
   "source": [
    "# add(): Adds an element to the set\n",
    "print(set1)\n",
    "set1.add(12)\n",
    "print(set1)"
   ]
  },
  {
   "cell_type": "code",
   "execution_count": null,
   "metadata": {},
   "outputs": [],
   "source": [
    "# clear(): Removes all the elements from the set\n",
    "set1.clear()\n",
    "print(set1)"
   ]
  },
  {
   "cell_type": "code",
   "execution_count": null,
   "metadata": {},
   "outputs": [],
   "source": [
    "# copy(): Returns a copy of the set\n",
    "set1=set2.copy()\n",
    "print(set1)"
   ]
  },
  {
   "cell_type": "code",
   "execution_count": null,
   "metadata": {},
   "outputs": [],
   "source": [
    "# difference(): Returns a set containing the difference between two or more sets\n",
    "x = {\"apple\", \"banana\", \"cherry\"}\n",
    "y = {\"samsung\", \"mi\", \"apple\"}\n",
    "\n",
    "z = y.difference(x)\n",
    "print(z)"
   ]
  },
  {
   "cell_type": "code",
   "execution_count": null,
   "metadata": {},
   "outputs": [],
   "source": [
    "# difference_update(): Removes the items in this set that are also included in another, specified set\n",
    "x = {\"apple\", \"banana\", \"cherry\"}\n",
    "y = {\"samsung\", \"mi\", \"apple\"}\n",
    "\n",
    "y.difference_update(x)\n",
    "print(y)"
   ]
  },
  {
   "cell_type": "code",
   "execution_count": null,
   "metadata": {},
   "outputs": [],
   "source": [
    "# discard(): Remove the specified item\n",
    "print(set1)\n",
    "set1.discard('X')\n",
    "print(set1)"
   ]
  },
  {
   "cell_type": "code",
   "execution_count": null,
   "metadata": {},
   "outputs": [],
   "source": [
    "# intersection(): Returns a set, that is the intersection of two other sets\n",
    "x = {\"apple\", \"banana\", \"cherry\"}\n",
    "y = {\"samsung\", \"mi\", \"apple\"}\n",
    "\n",
    "z = y.intersection(x)\n",
    "print(z)"
   ]
  },
  {
   "cell_type": "code",
   "execution_count": null,
   "metadata": {},
   "outputs": [],
   "source": [
    "# intersection_update(): Removes the items in this set that are not present in other, specified set(s)\n",
    "x = {\"apple\", \"banana\", \"cherry\"}\n",
    "y = {\"samsung\", \"mi\", \"apple\"}\n",
    "\n",
    "y.intersection_update(x)\n",
    "print(y)"
   ]
  },
  {
   "cell_type": "code",
   "execution_count": 15,
   "metadata": {},
   "outputs": [
    {
     "name": "stdout",
     "output_type": "stream",
     "text": [
      "False\n"
     ]
    }
   ],
   "source": [
    "# isdisjoint(): Returns whether two sets have a intersection or not\n",
    "x = {\"apple\", \"banana\", \"cherry\"}\n",
    "y = {\"samsung\", \"mi\", \"apple\"}\n",
    "\n",
    "z = x.isdisjoint(y)\n",
    "print(z)"
   ]
  },
  {
   "cell_type": "code",
   "execution_count": null,
   "metadata": {},
   "outputs": [],
   "source": [
    "# issubset(): Returns whether another set contains this set or not\n",
    "x = {\"apple\", \"banana\", \"cherry\"}\n",
    "y = {\"samsung\", \"mi\", \"apple\"}#,'banana','cherry'}\n",
    "\n",
    "z = y.issubset(x)\n",
    "print(z)"
   ]
  },
  {
   "cell_type": "code",
   "execution_count": null,
   "metadata": {},
   "outputs": [],
   "source": [
    "# issuperset(): Returns whether this set contains another set or not\n",
    "x = {\"apple\", \"banana\", \"cherry\"}\n",
    "y = {\"samsung\", \"mi\", \"apple\",'banana','cherry'}\n",
    "\n",
    "z = y.issuperset(x)\n",
    "print(z)"
   ]
  },
  {
   "cell_type": "code",
   "execution_count": null,
   "metadata": {},
   "outputs": [],
   "source": [
    "# len(): Finds length of set\n",
    "len(x)"
   ]
  },
  {
   "cell_type": "code",
   "execution_count": 17,
   "metadata": {},
   "outputs": [
    {
     "name": "stdout",
     "output_type": "stream",
     "text": [
      "{'apple', 'banana'}\n",
      "apple\n",
      "{'banana'}\n"
     ]
    }
   ],
   "source": [
    "# pop(): Removes an element from the set and returns the removed value.\n",
    "print(x)\n",
    "print(x.pop())\n",
    "print(x)"
   ]
  },
  {
   "cell_type": "code",
   "execution_count": null,
   "metadata": {},
   "outputs": [],
   "source": [
    "# remove(): Removes the specified element\n",
    "#y={'samsung', 'apple', 'mi'}\n",
    "print(y)\n",
    "y.remove('mi')\n",
    "#y.remove('MI')\n",
    "#y.discard('MI')\n",
    "print(y)"
   ]
  },
  {
   "cell_type": "code",
   "execution_count": null,
   "metadata": {},
   "outputs": [],
   "source": [
    "# symmetric_difference(): Returns a set with the symmetric differences of two sets\n",
    "x = {\"apple\", \"banana\", \"cherry\"}\n",
    "y = {\"samsung\", \"mi\", \"apple\"}\n",
    "\n",
    "z = y.symmetric_difference(x)\n",
    "print(z)"
   ]
  },
  {
   "cell_type": "code",
   "execution_count": null,
   "metadata": {},
   "outputs": [],
   "source": [
    "# symmetric_difference_update(): inserts the symmetric differences from this set and another\n",
    "x = {\"apple\", \"banana\", \"cherry\"}\n",
    "y = {\"samsung\", \"mi\", \"apple\"}\n",
    "\n",
    "y.symmetric_difference_update(x)\n",
    "print(y)"
   ]
  },
  {
   "cell_type": "code",
   "execution_count": null,
   "metadata": {},
   "outputs": [],
   "source": [
    "# union(): Return a set containing the union of sets\n",
    "x = {\"apple\", \"banana\", \"cherry\"}\n",
    "y = {\"samsung\", \"mi\", \"apple\"}\n",
    "\n",
    "z=x.union(y)\n",
    "print(z)"
   ]
  },
  {
   "cell_type": "code",
   "execution_count": null,
   "metadata": {},
   "outputs": [],
   "source": [
    "# update(): Update the set with the union of this set and others\n",
    "x = {\"apple\", \"banana\", \"cherry\"}\n",
    "y = {\"samsung\", \"mi\", \"apple\"}\n",
    "\n",
    "x.update(y)\n",
    "print(x)"
   ]
  },
  {
   "cell_type": "markdown",
   "metadata": {},
   "source": [
    "# Dictionary\n",
    "A dictionary is a collection which is unordered, changeable and indexed. In Python dictionaries are written with curly brackets, and they have keys and values."
   ]
  },
  {
   "cell_type": "code",
   "execution_count": 44,
   "metadata": {},
   "outputs": [
    {
     "name": "stdout",
     "output_type": "stream",
     "text": [
      "{'Name': 'Ankit', 'Class': '12th', 'Roll No.': 25, 'Result': 'Pass'}\n"
     ]
    }
   ],
   "source": [
    "d1={\"Name\": \"Ankit\",\"Class\": '12th','Roll No.': 25, 'Result': \"Pass\"}\n",
    "print(d1)"
   ]
  },
  {
   "cell_type": "code",
   "execution_count": 45,
   "metadata": {},
   "outputs": [
    {
     "data": {
      "text/plain": [
       "'12th'"
      ]
     },
     "execution_count": 45,
     "metadata": {},
     "output_type": "execute_result"
    }
   ],
   "source": [
    "# Accessing Items\n",
    "# You can access the items of a dictionary by referring to its key name, inside square brackets.\n",
    "ds = {\"sanket\": \"7769007765\",\"abc\":\"6887788\"}"
   ]
  },
  {
   "cell_type": "code",
   "execution_count": 46,
   "metadata": {},
   "outputs": [
    {
     "data": {
      "text/plain": [
       "'Ankit'"
      ]
     },
     "execution_count": 46,
     "metadata": {},
     "output_type": "execute_result"
    }
   ],
   "source": [
    "# get() function\n",
    "d1.get('Name')\n"
   ]
  },
  {
   "cell_type": "code",
   "execution_count": 47,
   "metadata": {},
   "outputs": [
    {
     "name": "stdout",
     "output_type": "stream",
     "text": [
      "{'Name': 'Aniket', 'Class': '12th', 'Roll No.': 25, 'Result': 'Pass'}\n"
     ]
    }
   ],
   "source": [
    "# Change values\n",
    "d1['Name']='Aniket'\n",
    "print(d1)\n"
   ]
  },
  {
   "cell_type": "code",
   "execution_count": null,
   "metadata": {},
   "outputs": [],
   "source": [
    "# Looping through dictionary\n",
    "for j in d1:\n",
    "    print(j)"
   ]
  },
  {
   "cell_type": "code",
   "execution_count": null,
   "metadata": {},
   "outputs": [],
   "source": [
    "for j in d1:\n",
    "    print(d1[j])"
   ]
  },
  {
   "cell_type": "code",
   "execution_count": null,
   "metadata": {},
   "outputs": [],
   "source": [
    "# Extract keys\n",
    "d1.keys()"
   ]
  },
  {
   "cell_type": "code",
   "execution_count": null,
   "metadata": {},
   "outputs": [],
   "source": [
    "# Extract values\n",
    "d1.values()"
   ]
  },
  {
   "cell_type": "code",
   "execution_count": null,
   "metadata": {},
   "outputs": [],
   "source": [
    "# Extract keys and values both\n",
    "d1.items()"
   ]
  },
  {
   "cell_type": "code",
   "execution_count": null,
   "metadata": {},
   "outputs": [],
   "source": [
    "for k,v in d1.items():\n",
    "    print(k,v)"
   ]
  },
  {
   "cell_type": "code",
   "execution_count": null,
   "metadata": {},
   "outputs": [],
   "source": [
    "# Check existance of key\n",
    "print('Names' in d1,'\\n')\n",
    "if 'Names' in d1:\n",
    "    print('Name exists in disctionary')\n"
   ]
  },
  {
   "cell_type": "code",
   "execution_count": null,
   "metadata": {},
   "outputs": [],
   "source": [
    "# Nested dictionary\n",
    "myfamily = {\n",
    "  \"child1\" : {\n",
    "    \"name\" : \"kruti\",\n",
    "    \"year\" : 2004\n",
    "  },\n",
    "  \"child2\" : {\n",
    "    \"name\" : \"Akruti\",\n",
    "    \"year\" : 2007\n",
    "  },\n",
    "  \"child3\" : {\n",
    "    \"name\" : \"Sanskruti\",\n",
    "    \"year\" : 2011\n",
    "  }\n",
    "}\n",
    "print(myfamily)"
   ]
  },
  {
   "cell_type": "code",
   "execution_count": 42,
   "metadata": {},
   "outputs": [
    {
     "name": "stdout",
     "output_type": "stream",
     "text": [
      "{'child1': {'name': 'kruti', 'year': 2004}, 'child2': {'name': 'Akruti', 'year': 2007}, 'child3': {'name': 'Sanskruti', 'year': 2011}}\n"
     ]
    }
   ],
   "source": [
    "child1 = { \"name\" : \"kruti\",\"year\" : 2004}\n",
    "child2 = {\"name\" : \"Akruti\",\"year\" : 2007}\n",
    "child3 = {\"name\" : \"Sanskruti\",\"year\" : 2011}\n",
    "\n",
    "myfamily = { \"child1\" : child1, \"child2\" : child2, \"child3\" : child3}\n",
    "\n",
    "print(myfamily)"
   ]
  },
  {
   "cell_type": "code",
   "execution_count": 46,
   "metadata": {},
   "outputs": [
    {
     "data": {
      "text/plain": [
       "{'name': 'kruti', 'year': 2004}"
      ]
     },
     "execution_count": 46,
     "metadata": {},
     "output_type": "execute_result"
    }
   ],
   "source": [
    "d = { \"name\" : \"kruti\",\"year\" : 2004}\n",
    "d"
   ]
  },
  {
   "cell_type": "code",
   "execution_count": 44,
   "metadata": {},
   "outputs": [],
   "source": [
    "d.clear()"
   ]
  },
  {
   "cell_type": "code",
   "execution_count": 47,
   "metadata": {},
   "outputs": [
    {
     "data": {
      "text/plain": [
       "{'name': 'kruti', 'year': 2004}"
      ]
     },
     "execution_count": 47,
     "metadata": {},
     "output_type": "execute_result"
    }
   ],
   "source": [
    "e = d.copy()\n",
    "e"
   ]
  },
  {
   "cell_type": "code",
   "execution_count": 48,
   "metadata": {},
   "outputs": [
    {
     "ename": "TypeError",
     "evalue": "fromkeys expected at least 1 argument, got 0",
     "output_type": "error",
     "traceback": [
      "\u001b[0;31m---------------------------------------------------------------------------\u001b[0m",
      "\u001b[0;31mTypeError\u001b[0m                                 Traceback (most recent call last)",
      "\u001b[0;32m/var/folders/2b/7j09kw1d0k9bgb6mny3b09h80000gp/T/ipykernel_39746/1052979389.py\u001b[0m in \u001b[0;36m<module>\u001b[0;34m\u001b[0m\n\u001b[0;32m----> 1\u001b[0;31m \u001b[0me\u001b[0m\u001b[0;34m.\u001b[0m\u001b[0mfromkeys\u001b[0m\u001b[0;34m(\u001b[0m\u001b[0;34m)\u001b[0m\u001b[0;34m\u001b[0m\u001b[0;34m\u001b[0m\u001b[0m\n\u001b[0m",
      "\u001b[0;31mTypeError\u001b[0m: fromkeys expected at least 1 argument, got 0"
     ]
    }
   ],
   "source": [
    "e.fromkeys()"
   ]
  },
  {
   "cell_type": "markdown",
   "metadata": {},
   "source": [
    "## Methods\n",
    "- clear(): Removes all the elements from the dictionary\n",
    "- copy(): Returns a copy of the dictionary\n",
    "- fromkeys(): Returns a dictionary with the specified keys and values\n",
    "- pop(): Removes the element with the specified key\n",
    "- popitem(): Removes the last inserted key-value pair\n",
    "- setdefault(): Returns the value of the specified key. If the key does not exist: insert the key, with the specified value\n",
    "- update(): Updates the dictionary with the specified key-value pairs"
   ]
  },
  {
   "cell_type": "code",
   "execution_count": null,
   "metadata": {},
   "outputs": [],
   "source": [
    "# clear(): Removes all the elements from the dictionary\n",
    "print(d1)\n",
    "d1.clear()\n",
    "print(d1)"
   ]
  },
  {
   "cell_type": "code",
   "execution_count": 57,
   "metadata": {},
   "outputs": [
    {
     "name": "stdout",
     "output_type": "stream",
     "text": [
      "{'Name': 'Ankit', 'Class': '12th', 'Roll No.': 25, 'Result': 'Pass'}\n",
      "{'Name': 'Ankit', 'Class': '12th', 'Roll No.': 25, 'Result': 'Pass'}\n"
     ]
    }
   ],
   "source": [
    "# copy(): Returns a copy of the dictionary d2 = d1\n",
    "d1={'Name': 'Ankit', 'Class': '12th', 'Roll No.': 25, 'Result': 'Pass'}\n",
    "d3= d1\n",
    "print(d3)\n",
    "D=d1.copy()\n",
    "print(D)"
   ]
  },
  {
   "cell_type": "code",
   "execution_count": 50,
   "metadata": {},
   "outputs": [
    {
     "name": "stdout",
     "output_type": "stream",
     "text": [
      "{'key1': (1, 2, 3), 'key2': (1, 2, 3), 'key3': (1, 2, 3)}\n"
     ]
    }
   ],
   "source": [
    "# fromkeys(): Returns a dictionary with the specified keys and values\n",
    "x = ('key1', 'key2', 'key3')\n",
    "y = (1,2,3)\n",
    "z=dict.fromkeys(x,y)\n",
    "print(z)"
   ]
  },
  {
   "cell_type": "code",
   "execution_count": 51,
   "metadata": {},
   "outputs": [
    {
     "data": {
      "text/plain": [
       "{1: 0, 2: 0, 3: 0}"
      ]
     },
     "execution_count": 51,
     "metadata": {},
     "output_type": "execute_result"
    }
   ],
   "source": [
    "x = [1,2,3]\n",
    "y = 0\n",
    "z = dict.fromkeys(x,y)\n",
    "z"
   ]
  },
  {
   "cell_type": "code",
   "execution_count": 54,
   "metadata": {},
   "outputs": [
    {
     "name": "stdout",
     "output_type": "stream",
     "text": [
      "{'name': 'kruti', 'year': 2004}\n",
      "{'year': 2004}\n"
     ]
    }
   ],
   "source": [
    "# pop(): Removes the element with the specified key\n",
    "print(d)\n",
    "d.pop('name')\n",
    "print(d)"
   ]
  },
  {
   "cell_type": "code",
   "execution_count": 55,
   "metadata": {},
   "outputs": [
    {
     "data": {
      "text/plain": [
       "2004"
      ]
     },
     "execution_count": 55,
     "metadata": {},
     "output_type": "execute_result"
    }
   ],
   "source": [
    "d.pop(\"year\")"
   ]
  },
  {
   "cell_type": "code",
   "execution_count": 56,
   "metadata": {},
   "outputs": [
    {
     "data": {
      "text/plain": [
       "{}"
      ]
     },
     "execution_count": 56,
     "metadata": {},
     "output_type": "execute_result"
    }
   ],
   "source": [
    "d"
   ]
  },
  {
   "cell_type": "code",
   "execution_count": 59,
   "metadata": {},
   "outputs": [
    {
     "name": "stdout",
     "output_type": "stream",
     "text": [
      "{'Name': 'Ankit', 'Class': '12th', 'Roll No.': 25}\n",
      "{'Name': 'Ankit', 'Class': '12th'}\n"
     ]
    }
   ],
   "source": [
    "# popitem(): Removes the last inserted key-value pair\n",
    "print(d1)\n",
    "d1.popitem()\n",
    "print(d1)"
   ]
  },
  {
   "cell_type": "code",
   "execution_count": 63,
   "metadata": {},
   "outputs": [
    {
     "name": "stdout",
     "output_type": "stream",
     "text": [
      "{'Name': 'Ankit', 'Class': '12th', 'Roll No.': 25, 'Result': 'Pass'}\n",
      "12th\n",
      "Ankit\n"
     ]
    }
   ],
   "source": [
    "# setdefault(): Returns the value of the specified key. \n",
    "# If the key does not exist: insert the key, with the specified value\n",
    "d1={'Name': 'Ankit', 'Class': '12th', 'Roll No.': 25, 'Result': 'Pass'}\n",
    "print(d1)\n",
    "d2=d1.setdefault(\"Class\")\n",
    "print(d2)\n",
    "d3=d1.setdefault('Name')\n",
    "print(d3)"
   ]
  },
  {
   "cell_type": "code",
   "execution_count": 68,
   "metadata": {},
   "outputs": [
    {
     "data": {
      "text/plain": [
       "{1: 'sanket', 2: 'Shubham', 3: 'prashant', 4: 'Yashaswi'}"
      ]
     },
     "execution_count": 68,
     "metadata": {},
     "output_type": "execute_result"
    }
   ],
   "source": [
    "fy = {1:\"sanket\",2:\"Shubham\",3:\"prashant\",4:\"Yashaswi\"}\n",
    "fy"
   ]
  },
  {
   "cell_type": "code",
   "execution_count": 70,
   "metadata": {},
   "outputs": [
    {
     "data": {
      "text/plain": [
       "{1: 'sanket', 2: 'Shubham', 3: 'prashant', 4: 'Yashaswi', 5: 'Tejas'}"
      ]
     },
     "execution_count": 70,
     "metadata": {},
     "output_type": "execute_result"
    }
   ],
   "source": [
    "fy.update({5:\"Tejas\"})\n",
    "fy"
   ]
  },
  {
   "cell_type": "code",
   "execution_count": 71,
   "metadata": {},
   "outputs": [],
   "source": [
    "fy.update({6:\"Shital\"})"
   ]
  },
  {
   "cell_type": "code",
   "execution_count": 72,
   "metadata": {},
   "outputs": [
    {
     "data": {
      "text/plain": [
       "{1: 'sanket',\n",
       " 2: 'Shubham',\n",
       " 3: 'prashant',\n",
       " 4: 'Yashaswi',\n",
       " 5: 'Tejas',\n",
       " 6: 'Shital'}"
      ]
     },
     "execution_count": 72,
     "metadata": {},
     "output_type": "execute_result"
    }
   ],
   "source": [
    "fy"
   ]
  },
  {
   "cell_type": "code",
   "execution_count": 66,
   "metadata": {},
   "outputs": [
    {
     "data": {
      "text/plain": [
       "'Shubham'"
      ]
     },
     "execution_count": 66,
     "metadata": {},
     "output_type": "execute_result"
    }
   ],
   "source": [
    "CR = fy.setdefault(2)\n",
    "CR"
   ]
  },
  {
   "cell_type": "code",
   "execution_count": 61,
   "metadata": {},
   "outputs": [
    {
     "data": {
      "text/plain": [
       "'12th'"
      ]
     },
     "execution_count": 61,
     "metadata": {},
     "output_type": "execute_result"
    }
   ],
   "source": [
    "(d2)"
   ]
  },
  {
   "cell_type": "code",
   "execution_count": 67,
   "metadata": {},
   "outputs": [
    {
     "name": "stdout",
     "output_type": "stream",
     "text": [
      "{'Name': 'Ankit', 'Class': '12th', 'Roll No.': 25, 'Result': 'Pass'}\n",
      "{'Name': 'Ankit', 'Class': '12th', 'Roll No.': 25, 'Result': 'Pass', 'Division': 'A'}\n"
     ]
    }
   ],
   "source": [
    "# update(): Updates the dictionary with the specified key-value pairs\n",
    "print(d1)\n",
    "d1.update({\"Division\":\"A\"})\n",
    "print(d1)"
   ]
  },
  {
   "cell_type": "code",
   "execution_count": null,
   "metadata": {},
   "outputs": [],
   "source": [
    "class1= [\"sanket\",\"ganesh\",\"raj\",\"anu\"]\n",
    "tuple1=('Raj', 'Arjun', 'Priya','Kishor','Anu')\n",
    "set1 = {\"sanket\",\"ganesj\",'hrutwik'}\n",
    "dict1 = {\"sanket\":\"1\",\"ganesh\":\"2\",\"hrutwik\": \"3\"}\n"
   ]
  },
  {
   "cell_type": "code",
   "execution_count": null,
   "metadata": {},
   "outputs": [],
   "source": [
    "type(class1)\n"
   ]
  },
  {
   "cell_type": "code",
   "execution_count": null,
   "metadata": {},
   "outputs": [],
   "source": [
    "type(tuple1)"
   ]
  },
  {
   "cell_type": "code",
   "execution_count": null,
   "metadata": {},
   "outputs": [],
   "source": [
    "type(set1)"
   ]
  },
  {
   "cell_type": "code",
   "execution_count": null,
   "metadata": {},
   "outputs": [],
   "source": []
  }
 ],
 "metadata": {
  "kernelspec": {
   "display_name": "Python 3 (ipykernel)",
   "language": "python",
   "name": "python3"
  },
  "language_info": {
   "codemirror_mode": {
    "name": "ipython",
    "version": 3
   },
   "file_extension": ".py",
   "mimetype": "text/x-python",
   "name": "python",
   "nbconvert_exporter": "python",
   "pygments_lexer": "ipython3",
   "version": "3.8.8"
  }
 },
 "nbformat": 4,
 "nbformat_minor": 2
}
