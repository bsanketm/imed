{
 "cells": [
  {
   "cell_type": "markdown",
   "metadata": {},
   "source": [
    "# Loops and Statements\n",
    "- if-else\n",
    "- while\n",
    "- for"
   ]
  },
  {
   "cell_type": "code",
   "execution_count": null,
   "metadata": {},
   "outputs": [],
   "source": [
    "if condtn:\n",
    "    if cond:\n",
    "        if cond:\n",
    "            "
   ]
  },
  {
   "cell_type": "code",
   "execution_count": 1,
   "metadata": {},
   "outputs": [
    {
     "name": "stdout",
     "output_type": "stream",
     "text": [
      "1\n",
      "January\n",
      "January have 31 days\n"
     ]
    }
   ],
   "source": [
    "a = int(input())\n",
    "if a==1:\n",
    "    print(\"January\")\n",
    "    print(\"January have 31 days\")\n",
    "elif a==2:\n",
    "    print(\"Feb\")\n",
    "    print(\"Feb have 28 days\")"
   ]
  },
  {
   "cell_type": "code",
   "execution_count": 13,
   "metadata": {},
   "outputs": [
    {
     "name": "stdout",
     "output_type": "stream",
     "text": [
      "3\n",
      "29 Days in this Month\n"
     ]
    }
   ],
   "source": [
    "number=int(input())\n",
    "#days=int(input())\n",
    "if number==1| number==3| number==5| number==7| number==8| number==10| number==12:\n",
    "    print(\"30 Days in this Month\")\n",
    "elif number ==4|number==6|number==9|number==11:\n",
    "    print(\"31 Days in this Month\")\n",
    "else:\n",
    "    print(\"29 Days in this Month\")"
   ]
  },
  {
   "cell_type": "code",
   "execution_count": 16,
   "metadata": {},
   "outputs": [
    {
     "name": "stdout",
     "output_type": "stream",
     "text": [
      "4\n",
      "29 Days in this Month\n"
     ]
    }
   ],
   "source": [
    "number=int(input())\n",
    "#days=int(input())\n",
    "if number==1| number==3| number==5| number==7| number==8| number==10| number==12:\n",
    "    print(\"30 Days in this Month\")\n",
    "elif number ==4|number==6|number==9|number==11:\n",
    "    print(\"31 Days in this Month\")\n",
    "else:\n",
    "    print(\"29 Days in this Month\")"
   ]
  },
  {
   "cell_type": "code",
   "execution_count": 15,
   "metadata": {},
   "outputs": [
    {
     "name": "stdout",
     "output_type": "stream",
     "text": [
      "bike\n",
      "sports\n"
     ]
    }
   ],
   "source": [
    "score = 98\n",
    "if score>90:\n",
    "    print(\"bike\")\n",
    "    if score>95:\n",
    "        print(\"sports\")\n",
    "        if score>98:\n",
    "            print(\"imported\")\n",
    "            \n",
    "            \n",
    "            \n",
    "        "
   ]
  },
  {
   "cell_type": "code",
   "execution_count": null,
   "metadata": {},
   "outputs": [],
   "source": [
    "if test expression:\n",
    "\n",
    "    Body of if\n",
    "elif test expression:\n",
    "\n",
    "    Body of elif\n",
    "else: \n",
    "\n",
    "    Body of else"
   ]
  },
  {
   "cell_type": "code",
   "execution_count": null,
   "metadata": {},
   "outputs": [],
   "source": [
    "if condition:\n",
    "    print(\"\")\n",
    "    if condition:\n",
    "        print()\n",
    "else condition:\n",
    "    print(\"\")\n",
    "    if condition:\n",
    "        print(\"\")\n",
    "        \n"
   ]
  },
  {
   "cell_type": "code",
   "execution_count": 25,
   "metadata": {},
   "outputs": [
    {
     "name": "stdout",
     "output_type": "stream",
     "text": [
      "you will recive computer\n",
      "i5 computer\n"
     ]
    }
   ],
   "source": [
    "score = 84\n",
    "if score>90:\n",
    " print(\"you will recive bike\")\n",
    " if score>95:\n",
    "        print(\"sports\")\n",
    "elif score>85:\n",
    "    print(\"you will recive cycle\")\n",
    "    if score>88:\n",
    "      print(\"gear cycle\")\n",
    "elif score>80:\n",
    "    print(\"you will recive computer\")\n",
    "    if score> 83:\n",
    "     print(\"i5 computer\")\n",
    "elif score>70:\n",
    "    print(\"you will recive mobile\")\n",
    "else:\n",
    "    print(\"you will not get anytihng\")"
   ]
  },
  {
   "cell_type": "markdown",
   "metadata": {},
   "source": [
    "## if statement\n",
    "The **if…elif…else** statement is used in Python for decision making.\n",
    "\n",
    "**if..statement..syntax** \n",
    "\n",
    "if condition:\n",
    "\n",
    "    statement(s)"
   ]
  },
  {
   "cell_type": "markdown",
   "metadata": {},
   "source": [
    "The program evaluates the test expression and will execute statement(s) only if the text expression is True.\n",
    "\n",
    "If the text expression is False, the statement(s) is not executed.\n",
    "\n",
    "Python interprets non-zero values as True. None and 0 are interpreted as False."
   ]
  },
  {
   "cell_type": "code",
   "execution_count": 5,
   "metadata": {},
   "outputs": [],
   "source": [
    "a = 33\n",
    "b = 200\n",
    "if b < a:\n",
    "    print(\"b is less than a\") # This statement is part of if statement.\n",
    "#print('a is less than b') # This will always print; not part of if statement"
   ]
  },
  {
   "cell_type": "code",
   "execution_count": 5,
   "metadata": {},
   "outputs": [
    {
     "data": {
      "text/plain": [
       "5.5"
      ]
     },
     "execution_count": 5,
     "metadata": {},
     "output_type": "execute_result"
    }
   ],
   "source": []
  },
  {
   "cell_type": "code",
   "execution_count": 7,
   "metadata": {},
   "outputs": [],
   "source": [
    "a = 100\n",
    "b = 20\n",
    "if a<b:\n",
    "    print(\"a is name of sanket\")\n",
    "    \n",
    "    "
   ]
  },
  {
   "cell_type": "code",
   "execution_count": 2,
   "metadata": {},
   "outputs": [
    {
     "ename": "IndentationError",
     "evalue": "expected an indented block (<ipython-input-2-982ad2edf1d0>, line 7)",
     "output_type": "error",
     "traceback": [
      "\u001b[0;36m  File \u001b[0;32m\"<ipython-input-2-982ad2edf1d0>\"\u001b[0;36m, line \u001b[0;32m7\u001b[0m\n\u001b[0;31m    print(\"b is greater than a\")\u001b[0m\n\u001b[0m    ^\u001b[0m\n\u001b[0;31mIndentationError\u001b[0m\u001b[0;31m:\u001b[0m expected an indented block\n"
     ]
    }
   ],
   "source": [
    "\"\"\"\n",
    "Python have some logical operators ==,!=,<,>,=<. \n",
    "WE can use these logical statement in for loop.\n",
    "\"\"\"\n",
    "if b > a:\n",
    "    \n",
    "print(\"b is greater than a\")"
   ]
  },
  {
   "cell_type": "code",
   "execution_count": null,
   "metadata": {},
   "outputs": [],
   "source": [
    "if a<b:\n",
    "    print(\"fswf\")\n",
    "print(\"dsfsdf\")"
   ]
  },
  {
   "cell_type": "markdown",
   "metadata": {},
   "source": [
    "## if ... else Statement\n",
    "### Syntax:\n",
    "    if condition:\n",
    "    \n",
    "        Body of if\n",
    "\n",
    "    else: \n",
    "    \n",
    "        Body of else"
   ]
  },
  {
   "cell_type": "code",
   "execution_count": null,
   "metadata": {},
   "outputs": [],
   "source": [
    "num = -19\n",
    "if num > 0:\n",
    "    print(\"Positive number\")\n",
    "else:\n",
    "    print(\"Negative Number\")"
   ]
  },
  {
   "cell_type": "code",
   "execution_count": null,
   "metadata": {},
   "outputs": [],
   "source": [
    "a = 9\n",
    "b = a%2 # % is Modulus\n",
    "if b==1:\n",
    "    if a>10:\n",
    "        print(\"a is 2 digit odd number\")\n",
    "        \n",
    "    else:\n",
    "        print(\"a is single digit odd number\")\n",
    "else:\n",
    "    print(\"even\")"
   ]
  },
  {
   "cell_type": "code",
   "execution_count": null,
   "metadata": {},
   "outputs": [],
   "source": [
    "if"
   ]
  },
  {
   "cell_type": "code",
   "execution_count": null,
   "metadata": {},
   "outputs": [],
   "source": [
    "num = 8\n",
    "# try 0, -1 and None\n",
    "if num>0:\n",
    "    print(\"Number is positive\")\n",
    "else:\n",
    "    print(\"Number is Negative\")  #This print statement always print\n",
    "\n",
    "#change number \n"
   ]
  },
  {
   "cell_type": "code",
   "execution_count": null,
   "metadata": {},
   "outputs": [],
   "source": []
  },
  {
   "cell_type": "code",
   "execution_count": null,
   "metadata": {},
   "outputs": [],
   "source": [
    "if test expression:\n",
    "\n",
    "    Body of if\n",
    "elif test expression:\n",
    "\n",
    "    Body of elif\n",
    "else: \n",
    "\n",
    "    Body of else"
   ]
  },
  {
   "cell_type": "markdown",
   "metadata": {},
   "source": [
    "## if...elif...else Statement\n",
    "### Syntax:\n",
    "    if test expression:\n",
    "\n",
    "        Body of if\n",
    "    elif test expression:\n",
    "    \n",
    "        Body of elif\n",
    "    else: \n",
    "    \n",
    "        Body of else"
   ]
  },
  {
   "cell_type": "code",
   "execution_count": null,
   "metadata": {},
   "outputs": [],
   "source": [
    "num = -1\n",
    "\n",
    "if num > 0:\n",
    "    print(\"Positive number\")\n",
    "elif num == 0:\n",
    "    print(\"ZERO\")\n",
    "else:\n",
    "    print(\"Negative Number\")"
   ]
  },
  {
   "cell_type": "code",
   "execution_count": null,
   "metadata": {},
   "outputs": [],
   "source": [
    "\"\"\"Jalgaon = 'Bhadagaon, Chalisgaon, Pachora, Parola, Yawal, Bhusawal'\n",
    "city = input()\n",
    "if city in Jalgaon :\n",
    "    print( \"District is Jalagaon\")\n",
    "else :\n",
    "    print(\"Belongs to other Districts\")\"\"\""
   ]
  },
  {
   "cell_type": "code",
   "execution_count": null,
   "metadata": {},
   "outputs": [],
   "source": [
    "a = 1,2,4"
   ]
  },
  {
   "cell_type": "code",
   "execution_count": null,
   "metadata": {},
   "outputs": [],
   "source": [
    "a,b,c,d = input(\"a = \"),input(\"b = \"), input(\"c = \"),input(\"d = \")"
   ]
  },
  {
   "cell_type": "code",
   "execution_count": null,
   "metadata": {},
   "outputs": [],
   "source": [
    "a = input(\"Enter the number\")\n"
   ]
  },
  {
   "cell_type": "code",
   "execution_count": null,
   "metadata": {},
   "outputs": [],
   "source": [
    "b=2"
   ]
  },
  {
   "cell_type": "code",
   "execution_count": null,
   "metadata": {},
   "outputs": [],
   "source": [
    "a = 33"
   ]
  },
  {
   "cell_type": "code",
   "execution_count": null,
   "metadata": {},
   "outputs": [],
   "source": [
    "c = int(input(\"enter the number\"))"
   ]
  },
  {
   "cell_type": "code",
   "execution_count": null,
   "metadata": {},
   "outputs": [],
   "source": [
    "c = int(input(\"enter the number\"))\n",
    "b = c%2\n",
    "if b ==1:\n",
    "    print(\"c is even\")\n",
    "else:\n",
    "    print(\"c is not even\")"
   ]
  },
  {
   "cell_type": "code",
   "execution_count": null,
   "metadata": {},
   "outputs": [],
   "source": [
    "a = 10\n",
    "b = a%2 # % is Modulus\n",
    "if b==1:\n",
    "    print(\"Odd\")\n",
    "else:\n",
    "    print(\"even\")"
   ]
  },
  {
   "cell_type": "code",
   "execution_count": null,
   "metadata": {},
   "outputs": [],
   "source": [
    "a = 10 \n",
    "b=20\n",
    "c= 30 \n",
    "d = 40"
   ]
  },
  {
   "cell_type": "code",
   "execution_count": null,
   "metadata": {},
   "outputs": [],
   "source": [
    "if a>b:\n",
    "    print(\"b is less than a\")\n",
    "else:\n",
    "    print(\"a is not less than b\")\n",
    "if a<c:\n",
    "    print(\"a is less than c\")\n",
    "else:\n",
    "    print(\"a is not greater than c\")\n",
    "if a<d:\n",
    "    print(\"a is not greater than d\")\n",
    "else:\n",
    "    print(\"a is not greater than d\")"
   ]
  },
  {
   "cell_type": "markdown",
   "metadata": {},
   "source": [
    "## Nested if Statements\n",
    "We can have a if...elif...else statement inside another if...elif...else statement. This is called nesting in computer programming."
   ]
  },
  {
   "cell_type": "code",
   "execution_count": null,
   "metadata": {
    "scrolled": true
   },
   "outputs": [],
   "source": [
    "num = 1\n",
    "\n",
    "if num >= 0:\n",
    "    if num == 0:\n",
    "        print(\"Zero\")\n",
    "    else:\n",
    "        print(\"Positive number is nefsd\")\n",
    "else:\n",
    "    print(\"Negative Number\")"
   ]
  },
  {
   "cell_type": "code",
   "execution_count": null,
   "metadata": {},
   "outputs": [],
   "source": [
    "if condition:\n",
    "    print()"
   ]
  },
  {
   "cell_type": "code",
   "execution_count": null,
   "metadata": {},
   "outputs": [],
   "source": [
    "b = 100\n",
    "c = a%2 # % is Modulus\n",
    "if b==1:\n",
    "    if b>10:\n",
    "        print(\"a is 2 digit odd number\")\n",
    "    else:\n",
    "        print(\"a is single digit odd number\")\n",
    "else:\n",
    "    print(\"even\")"
   ]
  },
  {
   "cell_type": "code",
   "execution_count": null,
   "metadata": {},
   "outputs": [],
   "source": [
    "# Region wise conversion of Maharashtra \n",
    "# Maharashtra State is Mainly Divided in the 5 regions Geogrophically \n",
    "# By the point of view of administration it is divided in 6 Divions \n",
    "city =input(\"Enter city Name \")\n",
    "#(\"Kokan, Paschim Maharashtra, Khandesh, Marathwada, Vidarbh\") in \"Maharashtra\"\n",
    "# ('Mumbai, Pune, Nasik, Marathwada, Vidarbh') in 'MH'\n",
    "#MH = (\"Kokan, Paschim_Maharashtra, Khandesh, Marathwada, Vidarbh\")\n",
    "Paschim_Maharashtra = (\"Kolhapur, Pune, Sangli, Satara, Solapur\")\n",
    "Khandesh =(\"Dhule, Jalgaon, Nandurbar, Nashik,Ahmednagar\")\n",
    "Marathwada = (\"Aurangabad, Beed, Jalna, Osmanabad, Nanded, Latur, Parbhani, Hingoli\")\n",
    "Vidarbh = (\"Bhandara, Chandrapur, Gadch iroli, Gondia, Nagpur, Wardha, Akola, Amravati, Buldana, Yavatmal, Washim\")\n",
    "Amravati = (\"Akola,Amravati, Buldana, Yavatmal, Washim\")\n",
    "Kokan = (\"Mumbai City, Mumbai Suburban, Thane, Palghar, Raigad, Ratnagiri ,Sindhudurg\")\n",
    "\n",
    "if city in Kokan:\n",
    "    print(\"Division HQ is Located in Mumbai\")\n",
    "elif city in Paschim_Maharashtra:\n",
    "    print(\"Division HQ is Located in Pune\")\n",
    "elif city in Khandesh:\n",
    "    print(\"Division HQ is Located Nasik\")\n",
    "\n",
    "elif city in Marathwada:\n",
    "    print(\"Division HQ is Located in Aurangabad\")\n",
    "if city in Vidarbh:\n",
    "    if city in Amravati:\n",
    "        print(\"Division HQ is Located in Amravati\")\n",
    "    else:\n",
    "        print(\"Division HQ is Located in Nagpur\")    \n",
    "else:\n",
    "    print(\"City is out of Maharashtra\")\n",
    "    "
   ]
  },
  {
   "cell_type": "code",
   "execution_count": null,
   "metadata": {},
   "outputs": [],
   "source": [
    "# Know the Divisional HQ of Districts of various all regions of Maharashtra\n",
    "# Maharashtra State is Mainly Divided in the 5 regions Geographically.\n",
    "# Administratively Maharashtra is divided in 6 region\n",
    "#\"Kokan, Paschim Maharashtra, Khandesh, Marathwada, Vidarbh\") in \"Maharashtra\"\n",
    "# ('Mumbai, Pune, Nasik, Marathwada, Vidarbh') in 'MH'\n",
    "#MH = (\"Kokan, Paschim_Maharashtra, Khandesh, Marathwada, Vidarbh\")\n",
    "city =input(\"Enter city Name \")\n",
    "Paschim_Maharashtra = (\"Kolhapur, Pune, Sangli, Satara, Solapur\")\n",
    "Khandesh =(\"Dhule, Jalgaon, Nandurbar, Nashik,Ahmednagar\")\n",
    "Marathwada = (\"Aurangabad, Beed, Jalna, Osmanabad, Nanded, Latur, Parbhani, Hingoli\")\n",
    "Vidarbh = (\"Bhandara, Chandrapur, Gadch iroli, Gondia, Nagpur, Wardha, Akola, Amravati, Buldana, Yavatmal, Washim\")\n",
    "Amravati = (\"Akola, Amravati, Buldana, Yavatmal, Washim\")\n",
    "Kokan = (\"Mumbai City, Mumbai Suburban, Thane, Palghar, Raigad, Ratnagiri ,Sindhudurg\")\n",
    "\n",
    "if city in Kokan:\n",
    "    print(\"Division HQ is Located in Mumbai\")\n",
    "elif city in Paschim_Maharashtra:\n",
    "    print(\"Division HQ is Located in Pune\")\n",
    "elif city in Khandesh:\n",
    "    print(\"Division HQ is Located Nasik\")\n",
    "elif city in Marathwada:\n",
    "    print(\"Division HQ is Located in Aurangabad\")\n",
    "if city in Vidarbh:\n",
    "    if city in Amravati:\n",
    "        print(\"Division HQ is Located in Amravati\")\n",
    "    else:\n",
    "        print(\"Division HQ is Located in Nagpur\")    \n",
    "else:\n",
    "    print(\"City is out of Maharashtra\")\n",
    "    "
   ]
  },
  {
   "cell_type": "code",
   "execution_count": null,
   "metadata": {},
   "outputs": [],
   "source": [
    "# Know the Divisional HQ of Districts of various all regions of Maharashtra\n",
    "# Maharashtra State is Mainly Divided in the 5 regions Geographically.\n",
    "#Maharashtra = (\"Kokan, Paschim_Maharashtra, Khandesh, Marathwada, Vidarbh\")\n",
    "city =input(\"Enter city Name \")\n",
    "Paschim_Maharashtra = (\"Kolhapur, Pune, Sangli, Satara, Solapur\")\n",
    "Khandesh = (\"Dhule, Jalgaon, Nandurbar, Nashik,Ahmednagar\")\n",
    "Marathwada = (\"Aurangabad, Beed, Jalna, Osmanabad, Nanded, Latur, Parbhani, Hingoli\")\n",
    "Vidarbh = (\"Bhandara, Chandrapur, Gadch iroli, Gondia, Nagpur, Wardha, Akola, Amravati, Buldana, Yavatmal, Washim\")\n",
    "Amravati = (\"Akola, Amravati, Buldana, Yavatmal, Washim\")\n",
    "Kokan = (\"Mumbai City, Mumbai Suburban, Thane, Palghar, Raigad, Ratnagiri ,Sindhudurg\")\n",
    "\n",
    "if city in Kokan:\n",
    "    print(\"Division HQ is Located in Mumbai\")\n",
    "elif city in Paschim_Maharashtra:\n",
    "    print(\"Division HQ is Located in Pune\")\n",
    "elif city in Khandesh:\n",
    "    print(\"Division HQ is Located Nasik\")\n",
    "elif city in Marathwada:\n",
    "    print(\"Division HQ is Located in Aurangabad\")\n",
    "if city in Vidarbh:\n",
    "    if city in Amravati:\n",
    "        print(\"Division HQ is Located in Amravati\")\n",
    "    else:\n",
    "        print(\"Division HQ is Located in Nagpur\")    "
   ]
  },
  {
   "cell_type": "markdown",
   "metadata": {},
   "source": [
    "### Python program to find the largest element among three Numbers"
   ]
  },
  {
   "cell_type": "code",
   "execution_count": null,
   "metadata": {},
   "outputs": [],
   "source": [
    "num1 = int(input())\n",
    "num2 = int(input())\n",
    "num3 = int(input())\n",
    "\n",
    "if (num1 >= num2) and (num1 >= num3):           #logical operator and\n",
    "    largest = num1\n",
    "elif (num2 >= num1) and (num2 >= num3):\n",
    "    largest = num2\n",
    "else:\n",
    "    largest = num3\n",
    "print(\"Largest element among three numbers is: {}\".format(largest))"
   ]
  },
  {
   "cell_type": "markdown",
   "metadata": {},
   "source": [
    "# "
   ]
  },
  {
   "cell_type": "markdown",
   "metadata": {},
   "source": [
    "# "
   ]
  },
  {
   "cell_type": "markdown",
   "metadata": {},
   "source": [
    "## while Loop\n",
    "The while loop in Python is used to iterate over a block of code as long as the test expression (condition) is true.\n",
    "### Syntax:\n",
    "    while test_expression:\n",
    "        \n",
    "        Body of while\n",
    "\n",
    "The body of the loop is entered only if the test_expression evaluates to True. \n",
    "\n",
    "After one iteration, the test expression is checked again. \n",
    "\n",
    "This process continues until the test_expression evaluates to False."
   ]
  },
  {
   "cell_type": "code",
   "execution_count": 46,
   "metadata": {},
   "outputs": [
    {
     "name": "stdout",
     "output_type": "stream",
     "text": [
      "Product is: 120\n"
     ]
    }
   ],
   "source": [
    "#Find product of all numbers present in a list\n",
    "\n",
    "lst = [1,2,3,4,5]#5*4*3*2*1 a = [\"a\",\"b\",\"c\",\"d\",\"e\"]\n",
    "# 2*3=6\n",
    "#6*4= 24\n",
    "#24*5\n",
    "#120\n",
    "product = 1\n",
    "index = 0\n",
    "\n",
    "while index < len(lst): # index < 5\n",
    "    product *= lst[index]#product = product *lst[index] #a[i] ; i=i+1\n",
    "    #lst[index] >> a[i];i=i+1\n",
    "    #lst[0]\n",
    "    #lst[1]\n",
    "    #lst[2]\n",
    "    #lst[3]\n",
    "    #lst[4]\n",
    "    index += 1#index=index+1\n",
    "\n",
    "print(\"Product is: {}\".format(product))\n",
    "\n",
    "\n"
   ]
  },
  {
   "cell_type": "code",
   "execution_count": 4,
   "metadata": {},
   "outputs": [
    {
     "name": "stdout",
     "output_type": "stream",
     "text": [
      "Product is: 0\n"
     ]
    }
   ],
   "source": [
    "lst = [1,2,3,4,5,6,7,8]\n",
    "product = 0\n",
    "index = 0\n",
    "while index < len(lst): #index<8\n",
    "    product *= lst[index]\n",
    "    index += 1#index = index+1\n",
    "print(\"Product is: {}\".format(product))\n",
    "\n"
   ]
  },
  {
   "cell_type": "code",
   "execution_count": 61,
   "metadata": {},
   "outputs": [
    {
     "data": {
      "text/plain": [
       "0"
      ]
     },
     "execution_count": 61,
     "metadata": {},
     "output_type": "execute_result"
    }
   ],
   "source": [
    "0*9999999999999999999999"
   ]
  },
  {
   "cell_type": "code",
   "execution_count": 49,
   "metadata": {},
   "outputs": [
    {
     "data": {
      "text/plain": [
       "5"
      ]
     },
     "execution_count": 49,
     "metadata": {},
     "output_type": "execute_result"
    }
   ],
   "source": [
    "len(lst)"
   ]
  },
  {
   "cell_type": "code",
   "execution_count": 54,
   "metadata": {},
   "outputs": [],
   "source": [
    "i = 5\n",
    "while i < 5:\n",
    "    print(i)\n",
    "    i = i+1\n",
    "    \n",
    "    \n",
    "    "
   ]
  },
  {
   "cell_type": "code",
   "execution_count": 38,
   "metadata": {},
   "outputs": [
    {
     "name": "stdout",
     "output_type": "stream",
     "text": [
      "a\n",
      "b\n",
      "c\n",
      "d\n",
      "e\n"
     ]
    }
   ],
   "source": [
    "a = [\"a\",\"b\",\"c\",\"d\",\"e\"]\n",
    "print(a[0])# a[i] #i=i+1\n",
    "print(a[1])\n",
    "print(a[2])\n",
    "print(a[3])\n",
    "print(a[4])"
   ]
  },
  {
   "cell_type": "code",
   "execution_count": 45,
   "metadata": {},
   "outputs": [
    {
     "name": "stdout",
     "output_type": "stream",
     "text": [
      "a\n",
      "b\n",
      "c\n",
      "d\n",
      "e\n"
     ]
    }
   ],
   "source": [
    "\"\"\"\"for i in a:\n",
    "    print(i)\"\"\"\""
   ]
  },
  {
   "cell_type": "code",
   "execution_count": 26,
   "metadata": {},
   "outputs": [
    {
     "name": "stdout",
     "output_type": "stream",
     "text": [
      "Product is: 120\n"
     ]
    }
   ],
   "source": [
    "lst = [1,2,3,4,5]#5*4*3*2*1\n",
    "# 2*3=6\n",
    "#6*4= 24\n",
    "#24*5\n",
    "#120\n",
    "product = 1\n",
    "index = 0\n",
    "\n",
    "while index < 5:#:len(lst): # index < 5\n",
    "        product *= lst[index]#product = product *lst[index]\n",
    "        index += 1#index=index+1\n",
    "\n",
    "print(\"Product is: {}\".format(product))\n",
    "       #print(index)"
   ]
  },
  {
   "cell_type": "code",
   "execution_count": 31,
   "metadata": {},
   "outputs": [
    {
     "data": {
      "text/plain": [
       "5"
      ]
     },
     "execution_count": 31,
     "metadata": {},
     "output_type": "execute_result"
    }
   ],
   "source": [
    "lst[4]"
   ]
  },
  {
   "cell_type": "code",
   "execution_count": 2,
   "metadata": {},
   "outputs": [
    {
     "ename": "IndentationError",
     "evalue": "expected an indented block (2034014537.py, line 11)",
     "output_type": "error",
     "traceback": [
      "\u001b[0;36m  File \u001b[0;32m\"/var/folders/2b/7j09kw1d0k9bgb6mny3b09h80000gp/T/ipykernel_32480/2034014537.py\"\u001b[0;36m, line \u001b[0;32m11\u001b[0m\n\u001b[0;31m    a=input(int())\u001b[0m\n\u001b[0m    ^\u001b[0m\n\u001b[0;31mIndentationError\u001b[0m\u001b[0;31m:\u001b[0m expected an indented block\n"
     ]
    }
   ],
   "source": [
    "print(\"1:Addition:\")\n",
    "print(\"2:Subtraction:\")\n",
    "print(\"3:Multiplication:\")\n",
    "print(\"4:Division:\")\n",
    "#print(\"5:Modulo:\")\n",
    "\n",
    "choice=int(input(\"Enter Choice:\"))\n",
    "while True:\n",
    "    if choice==1|2|3|4:\n",
    "    #a=int(input(\"Enter Number:\"))\n",
    "    a=int(\"input\")\n",
    "    b=int(input(\"Enter Number:\"))\n",
    "    if choice==1:\n",
    "        print(\"Addition:\",a+b)\n",
    "        break\n",
    "    elif choice==2:\n",
    "         print(\"Subtraction:\",a-b)\n",
    "    elif choice==3:\n",
    "           print(\"Multiplication:\",a*b)\n",
    "    elif choice==4:\n",
    "             print(\"Division:\",a/b)"
   ]
  },
  {
   "cell_type": "code",
   "execution_count": 5,
   "metadata": {},
   "outputs": [],
   "source": [
    "a = 5\n",
    "b = 5\n",
    "choice = 3\n",
    "if choice==1|2|3|4:\n",
    "    if choice==1:\n",
    "        print(\"Addition:\",a+b)\n",
    "    elif choice==2:\n",
    "         print(\"Subtraction:\",a-b)\n",
    "    elif choice==3:\n",
    "           print(\"Multiplication:\",a*b)\n",
    "    elif choice==4:\n",
    "             print(\"Division:\",a/b)"
   ]
  },
  {
   "cell_type": "code",
   "execution_count": null,
   "metadata": {},
   "outputs": [],
   "source": [
    "product *= lst[index]\n",
    "prodcut = lst*[index]"
   ]
  },
  {
   "cell_type": "code",
   "execution_count": 7,
   "metadata": {},
   "outputs": [
    {
     "name": "stdout",
     "output_type": "stream",
     "text": [
      "499\n",
      "498\n",
      "497\n",
      "496\n",
      "495\n",
      "494\n",
      "493\n",
      "492\n",
      "491\n",
      "490\n"
     ]
    }
   ],
   "source": [
    "a=500# intitalize\n",
    "while a>490: # Condition\n",
    "    a=a-1\n",
    "    print(a)"
   ]
  },
  {
   "cell_type": "code",
   "execution_count": 13,
   "metadata": {},
   "outputs": [
    {
     "name": "stdout",
     "output_type": "stream",
     "text": [
      "1\n",
      "2\n",
      "3\n",
      "4\n",
      "5\n"
     ]
    }
   ],
   "source": [
    "i = 0\n",
    "while i<5:\n",
    "    i = i+1# 0\n",
    "    #0+1\n",
    "    #1+1\n",
    "    #2+1\n",
    "    #3+1\n",
    "    #4+1....\n",
    "    #9+1\n",
    "    print(i)"
   ]
  },
  {
   "cell_type": "code",
   "execution_count": 11,
   "metadata": {},
   "outputs": [
    {
     "name": "stdout",
     "output_type": "stream",
     "text": [
      "0\n",
      "1\n",
      "2\n",
      "3\n",
      "4\n"
     ]
    }
   ],
   "source": [
    "i = 0\n",
    "while i < 5:\n",
    "    print(i)\n",
    "    i = i+1"
   ]
  },
  {
   "cell_type": "code",
   "execution_count": null,
   "metadata": {},
   "outputs": [],
   "source": [
    "a  = 100\n"
   ]
  },
  {
   "cell_type": "code",
   "execution_count": 40,
   "metadata": {},
   "outputs": [
    {
     "name": "stdout",
     "output_type": "stream",
     "text": [
      "1000\n",
      "1001\n",
      "1002\n",
      "1003\n",
      "1004\n",
      "1005\n",
      "1006\n",
      "1007\n",
      "1008\n",
      "1009\n"
     ]
    }
   ],
   "source": [
    "i= 1000\n",
    "while i < 1010:\n",
    "    print(i)\n",
    "    #i=i+1\n",
    "    i+=1\n",
    "    \n",
    "        \n",
    "   \n"
   ]
  },
  {
   "cell_type": "code",
   "execution_count": 10,
   "metadata": {},
   "outputs": [
    {
     "name": "stdout",
     "output_type": "stream",
     "text": [
      "5\n",
      "10\n",
      "20\n",
      "40\n",
      "80\n",
      "160\n",
      "320\n",
      "640\n",
      "1280\n",
      "2560\n",
      "5120\n",
      "10240\n",
      "20480\n",
      "40960\n"
     ]
    }
   ],
   "source": [
    "i = 5#10\n",
    "while i < 60000:\n",
    "    print(i)\n",
    "    i= i-2"
   ]
  },
  {
   "cell_type": "code",
   "execution_count": 52,
   "metadata": {},
   "outputs": [
    {
     "data": {
      "text/plain": [
       "9"
      ]
     },
     "execution_count": 52,
     "metadata": {},
     "output_type": "execute_result"
    }
   ],
   "source": [
    "len(numbers)"
   ]
  },
  {
   "cell_type": "code",
   "execution_count": 56,
   "metadata": {},
   "outputs": [
    {
     "data": {
      "text/plain": [
       "5"
      ]
     },
     "execution_count": 56,
     "metadata": {},
     "output_type": "execute_result"
    }
   ],
   "source": [
    "numbers[4]"
   ]
  },
  {
   "cell_type": "markdown",
   "metadata": {},
   "source": [
    "# while Loop with else\n",
    "Same as that of for loop, we can have an optional else block with while loop as well.\n",
    "\n",
    "The else part is executed if the condition in the while loop evaluates to False. The while loop can be terminated with a break statement.\n",
    "\n",
    "In such case, the else part is ignored. Hence, a while loop's else part runs if no break occurs and the condition is false."
   ]
  },
  {
   "cell_type": "code",
   "execution_count": 59,
   "metadata": {},
   "outputs": [
    {
     "name": "stdout",
     "output_type": "stream",
     "text": [
      "6\n",
      "7\n",
      "8\n",
      "9\n",
      "no item left in the list\n"
     ]
    }
   ],
   "source": [
    "numbers = [1, 2, 3,4,5,6,7,8,9]\n",
    "#iterating over the list\n",
    "index =5\n",
    "while index < len(numbers): #i<9\n",
    "    print(numbers[index])\n",
    "    index += 1 \n",
    "else:\n",
    "    print(\"no item left in the list\")"
   ]
  },
  {
   "cell_type": "code",
   "execution_count": 58,
   "metadata": {},
   "outputs": [
    {
     "data": {
      "text/plain": [
       "bool"
      ]
     },
     "execution_count": 58,
     "metadata": {},
     "output_type": "execute_result"
    }
   ],
   "source": [
    "type(True)"
   ]
  },
  {
   "cell_type": "code",
   "execution_count": 28,
   "metadata": {},
   "outputs": [
    {
     "data": {
      "text/plain": [
       "2"
      ]
     },
     "execution_count": 28,
     "metadata": {},
     "output_type": "execute_result"
    }
   ],
   "source": [
    "numbers[1]"
   ]
  },
  {
   "cell_type": "code",
   "execution_count": null,
   "metadata": {},
   "outputs": [],
   "source": [
    "i = 1\n",
    "while i < 6:\n",
    "  print(i)\n",
    "  i += 1"
   ]
  },
  {
   "cell_type": "code",
   "execution_count": 8,
   "metadata": {},
   "outputs": [
    {
     "name": "stdout",
     "output_type": "stream",
     "text": [
      "30\n",
      "28\n",
      "26\n",
      "24\n",
      "22\n",
      "20\n"
     ]
    }
   ],
   "source": [
    "i = 30\n",
    "while i >=20:\n",
    "    print(i)\n",
    "    i-= 2"
   ]
  },
  {
   "cell_type": "code",
   "execution_count": null,
   "metadata": {},
   "outputs": [],
   "source": []
  },
  {
   "cell_type": "code",
   "execution_count": null,
   "metadata": {},
   "outputs": [],
   "source": []
  },
  {
   "cell_type": "code",
   "execution_count": null,
   "metadata": {},
   "outputs": [],
   "source": []
  },
  {
   "cell_type": "code",
   "execution_count": 22,
   "metadata": {},
   "outputs": [
    {
     "name": "stdout",
     "output_type": "stream",
     "text": [
      "0\n",
      "1\n",
      "2\n",
      "3\n",
      "4\n",
      "5\n"
     ]
    }
   ],
   "source": [
    "i = 0\n",
    "while i < 6:\n",
    "    print(i)\n",
    "    i += 1 # i +1= i++1 = i+++1"
   ]
  },
  {
   "cell_type": "code",
   "execution_count": 15,
   "metadata": {},
   "outputs": [
    {
     "name": "stdout",
     "output_type": "stream",
     "text": [
      "1\n",
      "2\n"
     ]
    }
   ],
   "source": [
    "i = 0\n",
    "while i < 10:\n",
    "    i += 1\n",
    "    if i == 3:\n",
    "        break\n",
    "    print(i)"
   ]
  },
  {
   "cell_type": "code",
   "execution_count": 26,
   "metadata": {},
   "outputs": [
    {
     "name": "stdout",
     "output_type": "stream",
     "text": [
      "1\n",
      "2\n",
      "4\n",
      "5\n",
      "6\n"
     ]
    }
   ],
   "source": [
    "i = 0\n",
    "while i < 6:\n",
    "    i += 1\n",
    "    if i == 3:\n",
    "        continue\n",
    "    print(i)"
   ]
  },
  {
   "cell_type": "code",
   "execution_count": null,
   "metadata": {},
   "outputs": [],
   "source": [
    "x=int(input(\"Value: \"))\n",
    "print(x)\n",
    "print(type(x))"
   ]
  },
  {
   "cell_type": "code",
   "execution_count": 7,
   "metadata": {},
   "outputs": [
    {
     "name": "stdout",
     "output_type": "stream",
     "text": [
      "10 is divisible by 2\n",
      "10 is divisible by 5\n",
      "10 is NOT a Prime number\n"
     ]
    }
   ],
   "source": [
    "# Python Program to check given number is Prime number or not\n",
    "#num = int(input(\"Enter a number: \"))        #convert string to int\n",
    "num = 10\n",
    "isDivisible = False;\n",
    "\n",
    "i=2;\n",
    "while i < int(num):\n",
    "    if num % i == 0:\n",
    "        isDivisible = True;\n",
    "        print (\"{} is divisible by {}\".format(num,i) )\n",
    "    i += 1;\n",
    "    \n",
    "if isDivisible:\n",
    "    print(\"{} is NOT a Prime number\".format(num))\n",
    "else:\n",
    "    print(\"{} is a Prime number\".format(num))"
   ]
  },
  {
   "cell_type": "code",
   "execution_count": null,
   "metadata": {},
   "outputs": [],
   "source": [
    "if condition :\n",
    "    print()"
   ]
  },
  {
   "cell_type": "code",
   "execution_count": 33,
   "metadata": {},
   "outputs": [
    {
     "name": "stdout",
     "output_type": "stream",
     "text": [
      "[1, 2, 3, 4, 5]\n"
     ]
    }
   ],
   "source": [
    "a = [1,2,3,4,5]\n",
    "print(a)"
   ]
  },
  {
   "cell_type": "code",
   "execution_count": 34,
   "metadata": {},
   "outputs": [
    {
     "name": "stdout",
     "output_type": "stream",
     "text": [
      "1\n",
      "2\n",
      "3\n",
      "4\n",
      "5\n"
     ]
    }
   ],
   "source": [
    "for shubham in a:\n",
    "    print(shubham)"
   ]
  },
  {
   "cell_type": "code",
   "execution_count": 17,
   "metadata": {},
   "outputs": [
    {
     "name": "stdout",
     "output_type": "stream",
     "text": [
      "['A', 'B', 'C', 'D']\n"
     ]
    }
   ],
   "source": [
    "A = [\"A\",\"B\",\"C\",\"D\"]\n",
    "print(A)"
   ]
  },
  {
   "cell_type": "code",
   "execution_count": 24,
   "metadata": {},
   "outputs": [
    {
     "name": "stdout",
     "output_type": "stream",
     "text": [
      "A\n",
      "B\n",
      "C\n",
      "D\n"
     ]
    }
   ],
   "source": [
    "for i in A:\n",
    "    print(i)\n",
    "    "
   ]
  },
  {
   "cell_type": "code",
   "execution_count": 71,
   "metadata": {},
   "outputs": [
    {
     "name": "stdout",
     "output_type": "stream",
     "text": [
      "1\n",
      "2\n",
      "\n",
      "2\n"
     ]
    }
   ],
   "source": [
    "i=2\n",
    "for x in range(i):\n",
    "  x+=1\n",
    "  print(x)\n",
    "print(\"\")    \n",
    "print(x)"
   ]
  },
  {
   "cell_type": "code",
   "execution_count": 63,
   "metadata": {},
   "outputs": [
    {
     "name": "stdout",
     "output_type": "stream",
     "text": [
      "Enter number7\n",
      "Average of 10 numbers is  0.7\n",
      "Enter number5\n",
      "Average of 10 numbers is  1.2\n",
      "Enter number5\n",
      "Average of 10 numbers is  1.7\n",
      "Enter number3\n",
      "Average of 10 numbers is  2.0\n",
      "Enter number5\n",
      "Average of 10 numbers is  2.5\n",
      "Enter number3\n",
      "Average of 10 numbers is  2.8\n",
      "Enter number43\n",
      "Average of 10 numbers is  7.1\n",
      "Enter number5\n",
      "Average of 10 numbers is  7.6\n",
      "Enter number3\n",
      "Average of 10 numbers is  7.9\n",
      "Enter number5\n",
      "Average of 10 numbers is  8.4\n"
     ]
    }
   ],
   "source": [
    "s=0\n",
    "\n",
    "for i in range(10):\n",
    "\n",
    "    n=int(input(\"Enter number\"))\n",
    "\n",
    "    s=s+n\n",
    "\n",
    "    print(\"Average of 10 numbers is \",s/10)"
   ]
  },
  {
   "cell_type": "code",
   "execution_count": 35,
   "metadata": {},
   "outputs": [
    {
     "data": {
      "text/plain": [
       "'saknet'"
      ]
     },
     "execution_count": 35,
     "metadata": {},
     "output_type": "execute_result"
    }
   ],
   "source": [
    "_a = \"saknet\"\n",
    "_a"
   ]
  },
  {
   "cell_type": "code",
   "execution_count": 32,
   "metadata": {},
   "outputs": [
    {
     "name": "stdout",
     "output_type": "stream",
     "text": [
      "A\n",
      "C\n",
      "D\n"
     ]
    }
   ],
   "source": [
    "for i in A:\n",
    "    if i ==\"B\":\n",
    "        for i in A:\n",
    "            if i==\"C\":\n",
    "                continue\n",
    "        continue\n",
    "    print(i)"
   ]
  },
  {
   "cell_type": "code",
   "execution_count": 25,
   "metadata": {},
   "outputs": [
    {
     "name": "stdout",
     "output_type": "stream",
     "text": [
      "7\n",
      "S\n",
      "7\n",
      "a\n",
      "7\n",
      "n\n",
      "7\n",
      "k\n",
      "7\n",
      "e\n",
      "7\n",
      "t\n"
     ]
    }
   ],
   "source": [
    "for a in \"Sanket\":\n",
    "    for b in \"7\":\n",
    "        print(b)\n",
    "    print(a)"
   ]
  },
  {
   "cell_type": "code",
   "execution_count": 27,
   "metadata": {},
   "outputs": [
    {
     "name": "stdout",
     "output_type": "stream",
     "text": [
      "s\n",
      "7\n",
      "a\n",
      "7\n",
      "n\n",
      "7\n",
      "k\n",
      "7\n",
      "e\n",
      "7\n",
      "t\n",
      "7\n"
     ]
    },
    {
     "data": {
      "text/plain": [
       "'print (\"\\n\")\\nfor b in \"7\":\\n    print(b)'"
      ]
     },
     "execution_count": 27,
     "metadata": {},
     "output_type": "execute_result"
    }
   ],
   "source": [
    "for a in \"sanket\":\n",
    "    print(a)\n",
    "    for b in \"7\":\n",
    "        print(b)    \n",
    "\"\"\"print (\"\\n\")\n",
    "for b in \"7\":\n",
    "    print(b)\"\"\""
   ]
  },
  {
   "cell_type": "markdown",
   "metadata": {},
   "source": [
    "## for Loop\n",
    "The for loop in Python is used to iterate over a sequence (list, tuple, string) or other iterable objects. \n",
    "    \n",
    "Iterating over a sequence is called traversal.\n",
    "\n",
    "### Syntax:\n",
    "    for element in sequence :\n",
    "\n",
    "        Body of for\n",
    "Here, element is the variable that takes the value of the item inside the sequence on each iteration.\n",
    "\n",
    "Loop continues until we reach the last item in the sequence. \n",
    "\n"
   ]
  },
  {
   "cell_type": "code",
   "execution_count": 1,
   "metadata": {},
   "outputs": [
    {
     "name": "stdout",
     "output_type": "stream",
     "text": [
      "P\n",
      "y\n",
      "t\n",
      "h\n",
      "o\n",
      "n\n"
     ]
    }
   ],
   "source": [
    "a = \"Python\"\n",
    "for i in a:\n",
    "    print(i)"
   ]
  },
  {
   "cell_type": "code",
   "execution_count": null,
   "metadata": {},
   "outputs": [],
   "source": [
    "#Find product of all numbers present in a list\n",
    "lst = [1, 2, 3, 4, 5]\n",
    "product = 4\n",
    "\n",
    "#iterating over the list\n",
    "#for sanket in lst:\n",
    "    product *= lst\n",
    "\n",
    "print(\"Product is: {}\".format(product))"
   ]
  },
  {
   "cell_type": "code",
   "execution_count": null,
   "metadata": {
    "scrolled": true
   },
   "outputs": [],
   "source": [
    "#a = [1, 2, 3, 4, 5]\n",
    "#for i in range.reverse(0,100,2):\n",
    "  #  print(i)\n",
    "#for i in (range(1,100)):\n",
    "  #  print(i)"
   ]
  },
  {
   "cell_type": "code",
   "execution_count": null,
   "metadata": {},
   "outputs": [],
   "source": [
    "range(100,10,2)\n",
    "reversed(range(10,200,2))"
   ]
  },
  {
   "cell_type": "code",
   "execution_count": null,
   "metadata": {},
   "outputs": [],
   "source": [
    "print(1)\n",
    "print(2)\n",
    "print(3)\n",
    "print(4)\n",
    "print(5)\n",
    "...\n",
    "print(500)"
   ]
  },
  {
   "cell_type": "code",
   "execution_count": 35,
   "metadata": {},
   "outputs": [
    {
     "data": {
      "text/plain": [
       "['apple', 'banana', 'cherry']"
      ]
     },
     "execution_count": 35,
     "metadata": {},
     "output_type": "execute_result"
    }
   ],
   "source": [
    "fruits = [\"apple\", \"banana\", \"cherry\"]\n",
    "fruits"
   ]
  },
  {
   "cell_type": "code",
   "execution_count": null,
   "metadata": {},
   "outputs": [],
   "source": []
  },
  {
   "cell_type": "code",
   "execution_count": 46,
   "metadata": {},
   "outputs": [
    {
     "name": "stdout",
     "output_type": "stream",
     "text": [
      "apple\n",
      "banana\n",
      "cherry\n",
      "mango\n",
      "muskmelon\n"
     ]
    }
   ],
   "source": [
    "fruits = [\"apple\", \"banana\", \"cherry\",\"mango\",\"muskmelon\"]\n",
    "for x in fruits:\n",
    "    print(x)\n"
   ]
  },
  {
   "cell_type": "code",
   "execution_count": 15,
   "metadata": {},
   "outputs": [
    {
     "name": "stdout",
     "output_type": "stream",
     "text": [
      "apple\n",
      "mango\n",
      "banana\n",
      "cherry\n",
      "custard apple\n",
      "watermeolon\n"
     ]
    }
   ],
   "source": [
    "fruits = [\"apple\",\"mango\" ,\"banana\", \"cherry\",\"custard apple\",\"watermeolon\"]\n",
    "for x in fruits:\n",
    "    print(x)\n",
    "    if x == \"watermelon\":\n",
    "        break"
   ]
  },
  {
   "cell_type": "code",
   "execution_count": 17,
   "metadata": {},
   "outputs": [
    {
     "data": {
      "text/plain": [
       "'mango'"
      ]
     },
     "execution_count": 17,
     "metadata": {},
     "output_type": "execute_result"
    }
   ],
   "source": [
    "fruits[1]"
   ]
  },
  {
   "cell_type": "code",
   "execution_count": 3,
   "metadata": {},
   "outputs": [
    {
     "name": "stdout",
     "output_type": "stream",
     "text": [
      "apple\n"
     ]
    }
   ],
   "source": [
    "fruits = [\"apple\",\"mango\" ,\"banana\", \"cherry\"]\n",
    "for x in fruits:\n",
    "    if x == \"mango\":\n",
    "        continue\n",
    "    if x == \"banana\":\n",
    "        break\n",
    "    print(x)"
   ]
  },
  {
   "cell_type": "code",
   "execution_count": 2,
   "metadata": {},
   "outputs": [
    {
     "name": "stdout",
     "output_type": "stream",
     "text": [
      "apple\n",
      "mango\n"
     ]
    }
   ],
   "source": [
    "fruits =[\"apple\",\"mango\" ,\"banana\", \"cherry\"]\n",
    "for x in fruits:\n",
    "    if x == \"banana\":\n",
    "        break\n",
    "    print(x)\n",
    "    "
   ]
  },
  {
   "cell_type": "code",
   "execution_count": 47,
   "metadata": {},
   "outputs": [
    {
     "name": "stdout",
     "output_type": "stream",
     "text": [
      "s\n",
      "a\n",
      "n\n"
     ]
    }
   ],
   "source": [
    "a =\"sanket\"\n",
    "for i in a:\n",
    "    if i ==\"k\":\n",
    "        break\n",
    "    print(i)"
   ]
  },
  {
   "cell_type": "code",
   "execution_count": 5,
   "metadata": {},
   "outputs": [
    {
     "name": "stdout",
     "output_type": "stream",
     "text": [
      "1\n",
      "2\n",
      "3\n",
      "6\n",
      "7\n",
      "8\n"
     ]
    }
   ],
   "source": [
    "fruits = [\"1\", \"2\", \"3\", \"4\", \"5\",\"6\",\"7\",\"8\"]\n",
    "for x in fruits:\n",
    "    if x == \"4\":\n",
    "        continue\n",
    "    elif x == \"5\":\n",
    "        continue\n",
    "    else:\n",
    "        print(x)"
   ]
  },
  {
   "cell_type": "code",
   "execution_count": null,
   "metadata": {},
   "outputs": [],
   "source": [
    "for x in range(2, 10):\n",
    "    if x ==4 :\n",
    "        continue\n",
    "    print(x)"
   ]
  },
  {
   "cell_type": "markdown",
   "metadata": {},
   "source": [
    "### range() function\n",
    "We can generate a sequence of numbers using range() function. range(10) will generate numbers from 0 to 9 (10 numbers).\n",
    "\n",
    "We can also define the start, stop and step size as range(start,stop,step size). step size defaults to 1 if not provided.\n",
    "\n",
    "This function does not store all the values in memory, it would be inefficient. So it remembers the start, stop, step size and generates the next number on the go."
   ]
  },
  {
   "cell_type": "code",
   "execution_count": 45,
   "metadata": {},
   "outputs": [
    {
     "data": {
      "text/plain": [
       "[100, 101, 102, 103, 104, 105, 106, 107, 108, 109]"
      ]
     },
     "execution_count": 45,
     "metadata": {},
     "output_type": "execute_result"
    }
   ],
   "source": [
    "list(range(100,110))"
   ]
  },
  {
   "cell_type": "code",
   "execution_count": 32,
   "metadata": {},
   "outputs": [
    {
     "data": {
      "text/plain": [
       "range(10, 2, 2)"
      ]
     },
     "execution_count": 32,
     "metadata": {},
     "output_type": "execute_result"
    }
   ],
   "source": [
    "range(10,2,2)"
   ]
  },
  {
   "cell_type": "code",
   "execution_count": 42,
   "metadata": {},
   "outputs": [
    {
     "ename": "TypeError",
     "evalue": "'float' object cannot be interpreted as an integer",
     "output_type": "error",
     "traceback": [
      "\u001b[0;31m---------------------------------------------------------------------------\u001b[0m",
      "\u001b[0;31mTypeError\u001b[0m                                 Traceback (most recent call last)",
      "\u001b[0;32m/var/folders/2b/7j09kw1d0k9bgb6mny3b09h80000gp/T/ipykernel_35630/1691873569.py\u001b[0m in \u001b[0;36m<module>\u001b[0;34m\u001b[0m\n\u001b[1;32m      1\u001b[0m \u001b[0;31m#print range of 10\u001b[0m\u001b[0;34m\u001b[0m\u001b[0;34m\u001b[0m\u001b[0;34m\u001b[0m\u001b[0m\n\u001b[0;32m----> 2\u001b[0;31m \u001b[0;32mfor\u001b[0m \u001b[0mi\u001b[0m \u001b[0;32min\u001b[0m \u001b[0mrange\u001b[0m\u001b[0;34m(\u001b[0m\u001b[0;36m10.0\u001b[0m\u001b[0;34m,\u001b[0m\u001b[0;36m20.0\u001b[0m\u001b[0;34m,\u001b[0m\u001b[0;36m0.5\u001b[0m\u001b[0;34m)\u001b[0m\u001b[0;34m:\u001b[0m\u001b[0;34m\u001b[0m\u001b[0;34m\u001b[0m\u001b[0m\n\u001b[0m\u001b[1;32m      3\u001b[0m     \u001b[0mprint\u001b[0m\u001b[0;34m(\u001b[0m\u001b[0mi\u001b[0m\u001b[0;34m)\u001b[0m\u001b[0;34m\u001b[0m\u001b[0;34m\u001b[0m\u001b[0m\n",
      "\u001b[0;31mTypeError\u001b[0m: 'float' object cannot be interpreted as an integer"
     ]
    }
   ],
   "source": [
    "#print range of 10\n",
    "for i in range(10.0,20.0,0.5):\n",
    "    print(i)"
   ]
  },
  {
   "cell_type": "code",
   "execution_count": null,
   "metadata": {},
   "outputs": [],
   "source": [
    "#print range of numbers from 1 to 20 with step size of 2\n",
    "for i in range(0, 20, 5):\n",
    "    print(i)"
   ]
  },
  {
   "cell_type": "code",
   "execution_count": null,
   "metadata": {},
   "outputs": [],
   "source": [
    "lst = [\"sachin\", \"saurav\", \"dhoni\", \"sehvag\", \"virat\"]\n",
    "\n",
    "#iterate over the list using index\n",
    "#for index in range(len(lst)):\n",
    "#    print(lst[index])\n",
    "for ele in lst:\n",
    "    print(ele)"
   ]
  },
  {
   "cell_type": "markdown",
   "metadata": {},
   "source": [
    "### for loop with else\n",
    "A for loop can have an optional else block as well. The else part is executed if the items in the sequence used in for loop exhausts.\n",
    "\n",
    "break statement can be used to stop a for loop. In such case, the else part is ignored.\n",
    "\n",
    "Hence, a for loop's else part runs if no break occurs."
   ]
  },
  {
   "cell_type": "code",
   "execution_count": null,
   "metadata": {},
   "outputs": [],
   "source": [
    "numbers = [1, 2, 3]\n",
    "numbers=list(range(1,10,2))\n",
    "#iterating over the list\n",
    "for item in numbers:\n",
    "    print(item)\n",
    "else:\n",
    "    print(\"no item left in the list\")"
   ]
  },
  {
   "cell_type": "code",
   "execution_count": null,
   "metadata": {},
   "outputs": [],
   "source": [
    "for i in range(1,100):\n",
    "    print(i)\n",
    "    if i == 10:\n",
    "        break"
   ]
  },
  {
   "cell_type": "code",
   "execution_count": null,
   "metadata": {},
   "outputs": [],
   "source": [
    "for i in \"python\":\n",
    "    print(i)\n",
    "    if i == 'h':\n",
    "        break"
   ]
  },
  {
   "cell_type": "code",
   "execution_count": null,
   "metadata": {},
   "outputs": [],
   "source": []
  },
  {
   "cell_type": "code",
   "execution_count": null,
   "metadata": {},
   "outputs": [],
   "source": [
    "for item in \"numbers\":\n",
    "    print(item)\n",
    "    if item  == 't':\n",
    "        break\n",
    "else:\n",
    "    print(\"no item left in the list\")"
   ]
  },
  {
   "cell_type": "code",
   "execution_count": 40,
   "metadata": {},
   "outputs": [
    {
     "data": {
      "text/plain": [
       "[1, 2, 3, 4, 5, 6, 7, 8, 9]"
      ]
     },
     "execution_count": 40,
     "metadata": {},
     "output_type": "execute_result"
    }
   ],
   "source": [
    "list(range(1,10))"
   ]
  },
  {
   "cell_type": "code",
   "execution_count": null,
   "metadata": {},
   "outputs": [],
   "source": [
    "range(start,end,differnce)"
   ]
  },
  {
   "cell_type": "code",
   "execution_count": 41,
   "metadata": {},
   "outputs": [
    {
     "name": "stdout",
     "output_type": "stream",
     "text": [
      "Prime numbers between 20 and 50 are :\n",
      "23\n",
      "29\n",
      "31\n",
      "37\n",
      "41\n",
      "43\n",
      "47\n"
     ]
    }
   ],
   "source": [
    "# Python Program to display all prime numbers within an interval\n",
    "index1 = 20\n",
    "index2 = 50\n",
    "\n",
    "print(\"Prime numbers between {0} and {1} are :\".format(index1, index2))\n",
    "\n",
    "for num in range(index1, index2+1):      #default step size is 1\n",
    "    if num > 1:\n",
    "        isDivisible = False;\n",
    "        for index in range(2, num):\n",
    "            if num % index == 0:\n",
    "                isDivisible = True;\n",
    "        if not isDivisible:        \n",
    "            print(num);    "
   ]
  },
  {
   "cell_type": "code",
   "execution_count": null,
   "metadata": {},
   "outputs": [],
   "source": []
  },
  {
   "cell_type": "code",
   "execution_count": null,
   "metadata": {},
   "outputs": [],
   "source": [
    "x=int(input(\"Enter first no.:\" ))\n",
    "y=int(input(\"Enter second no.:\" ))\n",
    "\n",
    "print(\"Prime numbers between {0} and {1} are :\".format(x, y))\n",
    "\n",
    "for num in range(x, y+1):      #default step size is 1\n",
    "    if num > 1:\n",
    "        isDivisible = False;\n",
    "        for index in range(2, num):\n",
    "            if num % index == 0:\n",
    "                isDivisible = True;\n",
    "        if not isDivisible:        \n",
    "            print(num);    "
   ]
  },
  {
   "cell_type": "code",
   "execution_count": null,
   "metadata": {},
   "outputs": [],
   "source": [
    "sms = input(\"Enter SMS:\")\n",
    "l = len(sms)\n",
    "\n",
    "if l < 110:\n",
    "    print('SMS is ham')\n",
    "elif l>150:\n",
    "    print('SMS is spam')\n",
    "else:\n",
    "    print('Need more information')"
   ]
  },
  {
   "cell_type": "code",
   "execution_count": null,
   "metadata": {},
   "outputs": [],
   "source": [
    "[1,1,1]+[2,2,2]"
   ]
  },
  {
   "cell_type": "code",
   "execution_count": null,
   "metadata": {},
   "outputs": [],
   "source": [
    "A=[2,3,4,5]"
   ]
  },
  {
   "cell_type": "code",
   "execution_count": null,
   "metadata": {},
   "outputs": [],
   "source": [
    "spli"
   ]
  },
  {
   "cell_type": "code",
   "execution_count": null,
   "metadata": {},
   "outputs": [],
   "source": [
    "A"
   ]
  },
  {
   "cell_type": "code",
   "execution_count": null,
   "metadata": {},
   "outputs": [],
   "source": [
    "del(A[2])"
   ]
  },
  {
   "cell_type": "code",
   "execution_count": null,
   "metadata": {},
   "outputs": [],
   "source": [
    "A.split(\",\")"
   ]
  },
  {
   "cell_type": "code",
   "execution_count": 8,
   "metadata": {},
   "outputs": [
    {
     "name": "stdout",
     "output_type": "stream",
     "text": [
      "['A', 'B', 'C', 'D', 'E']\n"
     ]
    }
   ],
   "source": [
    "a = [\"A\",\"B\",\"C\",\"D\",\"E\"]\n",
    "print(a)"
   ]
  },
  {
   "cell_type": "code",
   "execution_count": 10,
   "metadata": {},
   "outputs": [
    {
     "name": "stdout",
     "output_type": "stream",
     "text": [
      "A\n",
      "B\n",
      "C\n",
      "D\n",
      "E\n"
     ]
    }
   ],
   "source": [
    "for akshada in a:\n",
    "    print(akshada)"
   ]
  },
  {
   "cell_type": "code",
   "execution_count": null,
   "metadata": {},
   "outputs": [],
   "source": []
  }
 ],
 "metadata": {
  "kernelspec": {
   "display_name": "Python 3 (ipykernel)",
   "language": "python",
   "name": "python3"
  },
  "language_info": {
   "codemirror_mode": {
    "name": "ipython",
    "version": 3
   },
   "file_extension": ".py",
   "mimetype": "text/x-python",
   "name": "python",
   "nbconvert_exporter": "python",
   "pygments_lexer": "ipython3",
   "version": "3.8.8"
  }
 },
 "nbformat": 4,
 "nbformat_minor": 2
}
